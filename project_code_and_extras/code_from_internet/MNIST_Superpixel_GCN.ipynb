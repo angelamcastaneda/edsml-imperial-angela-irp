{
 "cells": [
  {
   "cell_type": "code",
   "execution_count": null,
   "metadata": {},
   "outputs": [],
   "source": [
    "#This example notebook was downloaded from the following link:\n",
    "# https://colab.research.google.com/drive/1EMgPuFaD-xpboG_ZwZcytnlOlr39rakd "
   ]
  },
  {
   "cell_type": "markdown",
   "metadata": {
    "id": "7oJF8jEXZP5v"
   },
   "source": [
    "# Hands on with Graph Neural Networks"
   ]
  },
  {
   "cell_type": "markdown",
   "metadata": {
    "id": "MUCUCRLT-5jL"
   },
   "source": [
    "# **Installing Pytorch Geometric**"
   ]
  },
  {
   "cell_type": "markdown",
   "metadata": {
    "colab": {
     "base_uri": "https://localhost:8080/",
     "height": 998
    },
    "id": "pxmMjZ240wob",
    "outputId": "1347e881-d259-4287-93ef-fed7826a1070"
   },
   "source": [
    "# Enforce pytorch version 1.6.0\n",
    "import torch\n",
    "if torch.__version__ != '1.6.0':\n",
    "  !pip uninstall torch -y\n",
    "  !pip uninstall torchvision -y\n",
    "  !pip install torch==1.6.0\n",
    "  !pip install torchvision==0.7.0\n",
    "\n",
    "# Check pytorch version and make sure you use a GPU Kernel\n",
    "!python -c \"import torch; print(torch.__version__)\"\n",
    "!python -c \"import torch; print(torch.version.cuda)\"\n",
    "!python --version\n",
    "!nvidia-smi"
   ]
  },
  {
   "cell_type": "code",
   "execution_count": 1,
   "metadata": {},
   "outputs": [
    {
     "name": "stderr",
     "output_type": "stream",
     "text": [
      "C:\\Users\\amc121\\AppData\\Local\\Programs\\Python\\Python310\\lib\\site-packages\\tqdm\\auto.py:22: TqdmWarning: IProgress not found. Please update jupyter and ipywidgets. See https://ipywidgets.readthedocs.io/en/stable/user_install.html\n",
      "  from .autonotebook import tqdm as notebook_tqdm\n"
     ]
    }
   ],
   "source": [
    "import torch"
   ]
  },
  {
   "cell_type": "markdown",
   "metadata": {
    "id": "P4yyXJZqpqjC"
   },
   "source": [
    "Make sure you clicked \"RESTART RUNTIME\" above (if torch version was different)!"
   ]
  },
  {
   "cell_type": "markdown",
   "metadata": {
    "colab": {
     "base_uri": "https://localhost:8080/"
    },
    "id": "YnRp-W6y5K1f",
    "outputId": "5817a148-a90c-4cd9-86bb-cbdaa327a3dc"
   },
   "source": [
    "# If something breaks in the notebook it is probably related to a mismatch between the Python version, CUDA or torch\n",
    "import torch\n",
    "pytorch_version = f\"torch-{torch.__version__}+cu{torch.version.cuda.replace('.', '')}.html\"\n",
    "!pip install --no-index torch-scatter -f https://pytorch-geometric.com/whl/$pytorch_version\n",
    "!pip install --no-index torch-sparse -f https://pytorch-geometric.com/whl/$pytorch_version\n",
    "!pip install --no-index torch-cluster -f https://pytorch-geometric.com/whl/$pytorch_version\n",
    "!pip install --no-index torch-spline-conv -f https://pytorch-geometric.com/whl/$pytorch_version\n",
    "!pip install torch-geometric"
   ]
  },
  {
   "cell_type": "markdown",
   "metadata": {
    "id": "GMDvh1OKeuYP"
   },
   "source": [
    "\n",
    "## Looking into the Dataset"
   ]
  },
  {
   "cell_type": "code",
   "execution_count": 2,
   "metadata": {
    "colab": {
     "base_uri": "https://localhost:8080/"
    },
    "id": "kL8_Pkmt07WM",
    "outputId": "f7fda15f-67f0-4c5a-8b06-032cecd96665"
   },
   "outputs": [
    {
     "data": {
      "text/plain": [
       "MNISTSuperpixels(60000)"
      ]
     },
     "execution_count": 2,
     "metadata": {},
     "output_type": "execute_result"
    }
   ],
   "source": [
    "from torch_geometric.datasets import MNISTSuperpixels\n",
    "from torch_geometric.data import DataLoader\n",
    " \n",
    "# Load the MNISTSuperpixel dataset\n",
    "data = MNISTSuperpixels(root=\".\")\n",
    "data"
   ]
  },
  {
   "cell_type": "code",
   "execution_count": 3,
   "metadata": {
    "colab": {
     "base_uri": "https://localhost:8080/"
    },
    "id": "-bGynPDD2pOp",
    "outputId": "312ea2e5-c43a-474e-9070-2ea02da62bb6"
   },
   "outputs": [
    {
     "name": "stdout",
     "output_type": "stream",
     "text": [
      "Dataset type:  <class 'torch_geometric.datasets.mnist_superpixels.MNISTSuperpixels'>\n",
      "Dataset features:  1\n",
      "Dataset target:  10\n",
      "Dataset length:  <bound method InMemoryDataset.len of MNISTSuperpixels(60000)>\n",
      "Dataset sample:  Data(x=[75, 1], edge_index=[2, 1399], y=[1], pos=[75, 2])\n",
      "Sample  nodes:  75\n",
      "Sample  edges:  1399\n"
     ]
    }
   ],
   "source": [
    "# Investigating the dataset\n",
    "print(\"Dataset type: \", type(data))\n",
    "print(\"Dataset features: \", data.num_features)\n",
    "print(\"Dataset target: \", data.num_classes)\n",
    "print(\"Dataset length: \", data.len)\n",
    "print(\"Dataset sample: \", data[0])\n",
    "print(\"Sample  nodes: \", data[0].num_nodes)\n",
    "print(\"Sample  edges: \", data[0].num_edges)\n",
    "\n",
    "# edge_index = graph connections\n",
    "# x = node features (75 nodes have each 1 feature)\n",
    "# y = labels (dimension)"
   ]
  },
  {
   "cell_type": "code",
   "execution_count": 4,
   "metadata": {
    "colab": {
     "base_uri": "https://localhost:8080/"
    },
    "id": "yff5i4zZnJq3",
    "outputId": "be9be3c6-7806-4131-ad65-4df3d0fb7f53"
   },
   "outputs": [
    {
     "data": {
      "text/plain": [
       "Data(x=[75, 1], edge_index=[2, 1260], y=[1], pos=[75, 2])"
      ]
     },
     "execution_count": 4,
     "metadata": {},
     "output_type": "execute_result"
    }
   ],
   "source": [
    "data[1]"
   ]
  },
  {
   "cell_type": "code",
   "execution_count": 5,
   "metadata": {
    "colab": {
     "base_uri": "https://localhost:8080/"
    },
    "id": "Zx1OruLYnPSO",
    "outputId": "4d362f3b-608c-476c-fcbe-8b4fdedf1a33"
   },
   "outputs": [
    {
     "data": {
      "text/plain": [
       "tensor([[0.6005],\n",
       "        [0.7350],\n",
       "        [0.5124],\n",
       "        [0.7634],\n",
       "        [0.5810],\n",
       "        [0.7941],\n",
       "        [0.7025],\n",
       "        [0.6235],\n",
       "        [0.7882],\n",
       "        [0.5838],\n",
       "        [0.5105],\n",
       "        [0.2810],\n",
       "        [0.5782],\n",
       "        [0.7797],\n",
       "        [0.4412],\n",
       "        [0.6409],\n",
       "        [0.2843],\n",
       "        [0.7843],\n",
       "        [0.6980],\n",
       "        [0.5314],\n",
       "        [0.8451],\n",
       "        [0.7182],\n",
       "        [0.2941],\n",
       "        [0.6033],\n",
       "        [0.8843],\n",
       "        [0.0000],\n",
       "        [0.0000],\n",
       "        [0.0000],\n",
       "        [0.0000],\n",
       "        [0.0000],\n",
       "        [0.0000],\n",
       "        [0.0000],\n",
       "        [0.0000],\n",
       "        [0.0000],\n",
       "        [0.0000],\n",
       "        [0.0000],\n",
       "        [0.0000],\n",
       "        [0.0000],\n",
       "        [0.0000],\n",
       "        [0.0000],\n",
       "        [0.0000],\n",
       "        [0.0000],\n",
       "        [0.0000],\n",
       "        [0.0000],\n",
       "        [0.0000],\n",
       "        [0.0000],\n",
       "        [0.0000],\n",
       "        [0.0000],\n",
       "        [0.0000],\n",
       "        [0.0000],\n",
       "        [0.0000],\n",
       "        [0.0000],\n",
       "        [0.0000],\n",
       "        [0.0000],\n",
       "        [0.0000],\n",
       "        [0.0000],\n",
       "        [0.0000],\n",
       "        [0.0000],\n",
       "        [0.0000],\n",
       "        [0.0000],\n",
       "        [0.0000],\n",
       "        [0.0000],\n",
       "        [0.0000],\n",
       "        [0.0000],\n",
       "        [0.0000],\n",
       "        [0.0000],\n",
       "        [0.0000],\n",
       "        [0.0000],\n",
       "        [0.0000],\n",
       "        [0.0000],\n",
       "        [0.0000],\n",
       "        [0.0000],\n",
       "        [0.0000],\n",
       "        [0.0000],\n",
       "        [0.0000]])"
      ]
     },
     "execution_count": 5,
     "metadata": {},
     "output_type": "execute_result"
    }
   ],
   "source": [
    "# Investigating the features\n",
    "# Shape: [num_nodes, num_node_features]\n",
    "data[0].x"
   ]
  },
  {
   "cell_type": "code",
   "execution_count": 6,
   "metadata": {
    "colab": {
     "base_uri": "https://localhost:8080/"
    },
    "id": "eJgV2WdKuqky",
    "outputId": "8e8b92b7-422e-411f-8d57-1edadc580c36"
   },
   "outputs": [
    {
     "data": {
      "text/plain": [
       "tensor([[ 0,  3],\n",
       "        [ 0,  8],\n",
       "        [ 0, 10],\n",
       "        ...,\n",
       "        [74, 55],\n",
       "        [74, 63],\n",
       "        [74, 69]])"
      ]
     },
     "execution_count": 6,
     "metadata": {},
     "output_type": "execute_result"
    }
   ],
   "source": [
    "\n",
    "# Shape [2, num_edges]\n",
    "data[0].edge_index.t()"
   ]
  },
  {
   "cell_type": "code",
   "execution_count": 7,
   "metadata": {
    "colab": {
     "base_uri": "https://localhost:8080/"
    },
    "id": "JLLbZhpBvAnG",
    "outputId": "47faa2f0-7bb2-4950-efb6-5c173b0c4fa6"
   },
   "outputs": [
    {
     "data": {
      "text/plain": [
       "tensor([5])"
      ]
     },
     "execution_count": 7,
     "metadata": {},
     "output_type": "execute_result"
    }
   ],
   "source": [
    "data[0].y"
   ]
  },
  {
   "cell_type": "markdown",
   "metadata": {
    "id": "t2aqwJJ_bUC_"
   },
   "source": [
    "# Implementing Graph Neural Network\n",
    "Building a Graph Neural Network works the same way as building a Convolutional Neural Network, we simple add some layers.\n",
    "\n",
    "The GCN simply extends torch.nn.Module. GCNConv expects:\n",
    "\n",
    "    in_channels = Size of each input sample.\n",
    "    out_channels = Size of each output sample.\n",
    "\n",
    "We apply three convolutional layers, which means we learn the information about 3 neighbor hops. After that we apply a pooling layer to combine the information of the individual nodes, as we want to perform graph-level prediction.\n",
    "\n",
    "Always keep in mind that different learning problems (node, edge or graph prediction) require different GNN architectures.\n",
    "\n",
    "For example for node-level prediction you will often encounter masks. For graph-level predictions on the other hand you need to combine the node embeddings.\n"
   ]
  },
  {
   "cell_type": "code",
   "execution_count": 8,
   "metadata": {
    "colab": {
     "base_uri": "https://localhost:8080/"
    },
    "id": "45raJzPsjhU7",
    "outputId": "2c766fc5-a9c5-47c0-f818-4fce98da7184"
   },
   "outputs": [
    {
     "name": "stdout",
     "output_type": "stream",
     "text": [
      "GCN(\n",
      "  (initial_conv): GCNConv(1, 64)\n",
      "  (conv1): GCNConv(64, 64)\n",
      "  (conv2): GCNConv(64, 64)\n",
      "  (conv3): GCNConv(64, 64)\n",
      "  (out): Linear(in_features=128, out_features=10, bias=True)\n",
      ")\n",
      "Number of parameters:  13898\n"
     ]
    }
   ],
   "source": [
    "import torch\n",
    "from torch.nn import Linear\n",
    "import torch.nn.functional as F \n",
    "from torch_geometric.nn import GCNConv, TopKPooling, global_mean_pool\n",
    "from torch_geometric.nn import global_mean_pool as gap, global_max_pool as gmp\n",
    "embedding_size = 64\n",
    "class GCN(torch.nn.Module):\n",
    "    def __init__(self):\n",
    "        # Init parent\n",
    "        super(GCN, self).__init__()\n",
    "        torch.manual_seed(42)\n",
    "        # GCN layers\n",
    "        self.initial_conv = GCNConv(data.num_features, embedding_size)\n",
    "        self.conv1 = GCNConv(embedding_size, embedding_size)\n",
    "        self.conv2 = GCNConv(embedding_size, embedding_size)\n",
    "        self.conv3 = GCNConv(embedding_size, embedding_size)\n",
    "        # Output layer\n",
    "        self.out = Linear(embedding_size*2, data.num_classes)\n",
    "    def forward(self, x, edge_index, batch_index):\n",
    "        # First Conv layer\n",
    "        \n",
    "        print('x.shape_inicial: ', x.shape) #ERASE THIS\n",
    "        \n",
    "        hidden = self.initial_conv(x, edge_index)\n",
    "        hidden = F.tanh(hidden)\n",
    "        \n",
    "        print('x.shape_pre_conv1: ', x.shape) #ERASE THIS\n",
    "        \n",
    "        # Other Conv layers\n",
    "        hidden = self.conv1(hidden, edge_index)\n",
    "        hidden = F.tanh(hidden)\n",
    "        \n",
    "        print('x.shape_conv1: ', x.shape) #ERASE THIS\n",
    "        \n",
    "        hidden = self.conv2(hidden, edge_index)\n",
    "        hidden = F.tanh(hidden)\n",
    "        hidden = self.conv3(hidden, edge_index)\n",
    "        hidden = F.tanh(hidden)\n",
    "        \n",
    "        print('x.shape_conv3: ', x.shape) #ERASE THIS\n",
    "        \n",
    "        # Global Pooling (stack different aggregations)\n",
    "        hidden = torch.cat([gmp(hidden, batch_index), \n",
    "                            gap(hidden, batch_index)], dim=1)\n",
    "        \n",
    "        print('x.shape_pooling: ', x.shape) #ERASE THIS\n",
    "        \n",
    "        # Apply a final (linear) classifier.\n",
    "        out = self.out(hidden)\n",
    "        \n",
    "        print('x.shape_final: ', x.shape) #ERASE THIS\n",
    "        \n",
    "        return out, hidden\n",
    "model = GCN()\n",
    "print(model)\n",
    "print(\"Number of parameters: \", sum(p.numel() for p in model.parameters()))"
   ]
  },
  {
   "cell_type": "code",
   "execution_count": 9,
   "metadata": {
    "id": "U8gKBvXvrnDQ"
   },
   "outputs": [],
   "source": [
    "data_size = len(data)"
   ]
  },
  {
   "cell_type": "code",
   "execution_count": 10,
   "metadata": {},
   "outputs": [],
   "source": [
    "#pause_here"
   ]
  },
  {
   "cell_type": "markdown",
   "metadata": {
    "id": "vf_KuYZmnRgn"
   },
   "source": [
    "## Training the GNN"
   ]
  },
  {
   "cell_type": "code",
   "execution_count": 11,
   "metadata": {
    "id": "YiEyKu187Qrb"
   },
   "outputs": [],
   "source": [
    "data=data[:int(data_size * 0.15)]"
   ]
  },
  {
   "cell_type": "code",
   "execution_count": 12,
   "metadata": {
    "colab": {
     "base_uri": "https://localhost:8080/"
    },
    "id": "vBGxPy8RBtd4",
    "outputId": "2fda18ea-b4a5-41e4-f70d-57c9a2faa900"
   },
   "outputs": [
    {
     "data": {
      "text/plain": [
       "9000"
      ]
     },
     "execution_count": 12,
     "metadata": {},
     "output_type": "execute_result"
    }
   ],
   "source": [
    "len(data)"
   ]
  },
  {
   "cell_type": "code",
   "execution_count": 13,
   "metadata": {
    "colab": {
     "base_uri": "https://localhost:8080/"
    },
    "id": "fpOKtQWIL4sj",
    "outputId": "e9ae92ef-5b01-4df6-c834-98bf214856bf",
    "scrolled": true
   },
   "outputs": [
    {
     "data": {
      "text/plain": [
       "MNISTSuperpixels(9000)"
      ]
     },
     "execution_count": 13,
     "metadata": {},
     "output_type": "execute_result"
    }
   ],
   "source": [
    "data"
   ]
  },
  {
   "cell_type": "code",
   "execution_count": 14,
   "metadata": {},
   "outputs": [
    {
     "data": {
      "text/plain": [
       "Data(x=[75, 1], edge_index=[2, 1372], y=[1], pos=[75, 2])"
      ]
     },
     "execution_count": 14,
     "metadata": {},
     "output_type": "execute_result"
    }
   ],
   "source": [
    "data[100]"
   ]
  },
  {
   "cell_type": "code",
   "execution_count": 15,
   "metadata": {},
   "outputs": [
    {
     "data": {
      "text/plain": [
       "64.0"
      ]
     },
     "execution_count": 15,
     "metadata": {},
     "output_type": "execute_result"
    }
   ],
   "source": [
    "4800/75"
   ]
  },
  {
   "cell_type": "code",
   "execution_count": 16,
   "metadata": {
    "colab": {
     "base_uri": "https://localhost:8080/"
    },
    "id": "xDra7-J-k0EB",
    "outputId": "ac61538d-0259-492f-d8e9-8f334413196a",
    "scrolled": true
   },
   "outputs": [
    {
     "name": "stdout",
     "output_type": "stream",
     "text": [
      "Starting training...\n",
      "entries:  torch.Size([4800, 1]) torch.Size([2, 88464]) torch.Size([4800])\n",
      "x.shape_inicial:  torch.Size([4800, 1])\n",
      "x.shape_pre_conv1:  torch.Size([4800, 1])\n",
      "x.shape_conv1:  torch.Size([4800, 1])\n",
      "x.shape_conv3:  torch.Size([4800, 1])\n",
      "x.shape_pooling:  torch.Size([4800, 1])\n",
      "x.shape_final:  torch.Size([4800, 1])\n",
      "entries:  torch.Size([4800, 1]) torch.Size([2, 88885]) torch.Size([4800])\n",
      "x.shape_inicial:  torch.Size([4800, 1])\n",
      "x.shape_pre_conv1:  torch.Size([4800, 1])\n",
      "x.shape_conv1:  torch.Size([4800, 1])\n",
      "x.shape_conv3:  torch.Size([4800, 1])\n",
      "x.shape_pooling:  torch.Size([4800, 1])\n",
      "x.shape_final:  torch.Size([4800, 1])\n",
      "entries:  torch.Size([4800, 1]) torch.Size([2, 90547]) torch.Size([4800])\n",
      "x.shape_inicial:  torch.Size([4800, 1])\n",
      "x.shape_pre_conv1:  torch.Size([4800, 1])\n",
      "x.shape_conv1:  torch.Size([4800, 1])\n",
      "x.shape_conv3:  torch.Size([4800, 1])\n",
      "x.shape_pooling:  torch.Size([4800, 1])\n",
      "x.shape_final:  torch.Size([4800, 1])\n",
      "entries:  torch.Size([4800, 1]) torch.Size([2, 89456]) torch.Size([4800])\n",
      "x.shape_inicial:  torch.Size([4800, 1])\n",
      "x.shape_pre_conv1:  torch.Size([4800, 1])\n",
      "x.shape_conv1:  torch.Size([4800, 1])\n",
      "x.shape_conv3:  torch.Size([4800, 1])\n",
      "x.shape_pooling:  torch.Size([4800, 1])\n",
      "x.shape_final:  torch.Size([4800, 1])\n",
      "entries:  torch.Size([4800, 1]) torch.Size([2, 88936]) torch.Size([4800])\n",
      "x.shape_inicial:  torch.Size([4800, 1])\n",
      "x.shape_pre_conv1:  torch.Size([4800, 1])\n",
      "x.shape_conv1:  torch.Size([4800, 1])\n",
      "x.shape_conv3:  torch.Size([4800, 1])\n",
      "x.shape_pooling:  torch.Size([4800, 1])\n",
      "x.shape_final:  torch.Size([4800, 1])\n",
      "entries:  torch.Size([4800, 1]) torch.Size([2, 87895]) torch.Size([4800])\n",
      "x.shape_inicial:  torch.Size([4800, 1])\n",
      "x.shape_pre_conv1:  torch.Size([4800, 1])\n",
      "x.shape_conv1:  torch.Size([4800, 1])\n",
      "x.shape_conv3:  torch.Size([4800, 1])\n",
      "x.shape_pooling:  torch.Size([4800, 1])\n",
      "x.shape_final:  torch.Size([4800, 1])\n",
      "entries:  torch.Size([4800, 1]) torch.Size([2, 89660]) torch.Size([4800])\n",
      "x.shape_inicial:  torch.Size([4800, 1])\n",
      "x.shape_pre_conv1:  torch.Size([4800, 1])\n",
      "x.shape_conv1:  torch.Size([4800, 1])\n",
      "x.shape_conv3:  torch.Size([4800, 1])\n",
      "x.shape_pooling:  torch.Size([4800, 1])\n",
      "x.shape_final:  torch.Size([4800, 1])\n",
      "entries:  torch.Size([4800, 1]) torch.Size([2, 88918]) torch.Size([4800])\n",
      "x.shape_inicial:  torch.Size([4800, 1])\n",
      "x.shape_pre_conv1:  torch.Size([4800, 1])\n",
      "x.shape_conv1:  torch.Size([4800, 1])\n",
      "x.shape_conv3:  torch.Size([4800, 1])\n",
      "x.shape_pooling:  torch.Size([4800, 1])\n",
      "x.shape_final:  torch.Size([4800, 1])\n",
      "entries:  torch.Size([4800, 1]) torch.Size([2, 89454]) torch.Size([4800])\n",
      "x.shape_inicial:  torch.Size([4800, 1])\n",
      "x.shape_pre_conv1:  torch.Size([4800, 1])\n",
      "x.shape_conv1:  torch.Size([4800, 1])\n",
      "x.shape_conv3:  torch.Size([4800, 1])\n",
      "x.shape_pooling:  torch.Size([4800, 1])\n",
      "x.shape_final:  torch.Size([4800, 1])\n",
      "entries:  torch.Size([4800, 1]) torch.Size([2, 89123]) torch.Size([4800])\n",
      "x.shape_inicial:  torch.Size([4800, 1])\n",
      "x.shape_pre_conv1:  torch.Size([4800, 1])\n",
      "x.shape_conv1:  torch.Size([4800, 1])\n",
      "x.shape_conv3:  torch.Size([4800, 1])\n",
      "x.shape_pooling:  torch.Size([4800, 1])\n",
      "x.shape_final:  torch.Size([4800, 1])\n",
      "entries:  torch.Size([4800, 1]) torch.Size([2, 88744]) torch.Size([4800])\n",
      "x.shape_inicial:  torch.Size([4800, 1])\n",
      "x.shape_pre_conv1:  torch.Size([4800, 1])\n",
      "x.shape_conv1:  torch.Size([4800, 1])\n",
      "x.shape_conv3:  torch.Size([4800, 1])\n",
      "x.shape_pooling:  torch.Size([4800, 1])\n",
      "x.shape_final:  torch.Size([4800, 1])\n",
      "entries:  torch.Size([4800, 1]) torch.Size([2, 89012]) torch.Size([4800])\n",
      "x.shape_inicial:  torch.Size([4800, 1])\n",
      "x.shape_pre_conv1:  torch.Size([4800, 1])\n",
      "x.shape_conv1:  torch.Size([4800, 1])\n",
      "x.shape_conv3:  torch.Size([4800, 1])\n",
      "x.shape_pooling:  torch.Size([4800, 1])\n",
      "x.shape_final:  torch.Size([4800, 1])\n",
      "entries:  torch.Size([4800, 1]) torch.Size([2, 89000]) torch.Size([4800])\n",
      "x.shape_inicial:  torch.Size([4800, 1])\n",
      "x.shape_pre_conv1:  torch.Size([4800, 1])\n",
      "x.shape_conv1:  torch.Size([4800, 1])\n",
      "x.shape_conv3:  torch.Size([4800, 1])\n",
      "x.shape_pooling:  torch.Size([4800, 1])\n",
      "x.shape_final:  torch.Size([4800, 1])\n",
      "entries:  torch.Size([4800, 1]) torch.Size([2, 89105]) torch.Size([4800])\n",
      "x.shape_inicial:  torch.Size([4800, 1])\n",
      "x.shape_pre_conv1:  torch.Size([4800, 1])\n",
      "x.shape_conv1:  torch.Size([4800, 1])\n",
      "x.shape_conv3:  torch.Size([4800, 1])\n",
      "x.shape_pooling:  torch.Size([4800, 1])\n",
      "x.shape_final:  torch.Size([4800, 1])\n",
      "entries:  torch.Size([4800, 1]) torch.Size([2, 89247]) torch.Size([4800])\n",
      "x.shape_inicial:  torch.Size([4800, 1])\n",
      "x.shape_pre_conv1:  torch.Size([4800, 1])\n",
      "x.shape_conv1:  torch.Size([4800, 1])\n",
      "x.shape_conv3:  torch.Size([4800, 1])\n",
      "x.shape_pooling:  torch.Size([4800, 1])\n",
      "x.shape_final:  torch.Size([4800, 1])\n",
      "entries:  torch.Size([4800, 1]) torch.Size([2, 89434]) torch.Size([4800])\n",
      "x.shape_inicial:  torch.Size([4800, 1])\n",
      "x.shape_pre_conv1:  torch.Size([4800, 1])\n",
      "x.shape_conv1:  torch.Size([4800, 1])\n",
      "x.shape_conv3:  torch.Size([4800, 1])\n",
      "x.shape_pooling:  torch.Size([4800, 1])\n",
      "x.shape_final:  torch.Size([4800, 1])\n",
      "entries:  torch.Size([4800, 1]) torch.Size([2, 89637]) torch.Size([4800])\n",
      "x.shape_inicial:  torch.Size([4800, 1])\n",
      "x.shape_pre_conv1:  torch.Size([4800, 1])\n",
      "x.shape_conv1:  torch.Size([4800, 1])\n",
      "x.shape_conv3:  torch.Size([4800, 1])\n",
      "x.shape_pooling:  torch.Size([4800, 1])\n",
      "x.shape_final:  torch.Size([4800, 1])\n",
      "entries:  torch.Size([4800, 1]) torch.Size([2, 88590]) torch.Size([4800])\n",
      "x.shape_inicial:  torch.Size([4800, 1])\n",
      "x.shape_pre_conv1:  torch.Size([4800, 1])\n",
      "x.shape_conv1:  torch.Size([4800, 1])\n",
      "x.shape_conv3:  torch.Size([4800, 1])\n",
      "x.shape_pooling:  torch.Size([4800, 1])\n",
      "x.shape_final:  torch.Size([4800, 1])\n",
      "entries:  torch.Size([4800, 1]) torch.Size([2, 89566]) torch.Size([4800])\n",
      "x.shape_inicial:  torch.Size([4800, 1])\n",
      "x.shape_pre_conv1:  torch.Size([4800, 1])\n",
      "x.shape_conv1:  torch.Size([4800, 1])\n",
      "x.shape_conv3:  torch.Size([4800, 1])\n",
      "x.shape_pooling:  torch.Size([4800, 1])\n",
      "x.shape_final:  torch.Size([4800, 1])\n",
      "entries:  torch.Size([4800, 1]) torch.Size([2, 87966]) torch.Size([4800])\n",
      "x.shape_inicial:  torch.Size([4800, 1])\n",
      "x.shape_pre_conv1:  torch.Size([4800, 1])\n",
      "x.shape_conv1:  torch.Size([4800, 1])\n",
      "x.shape_conv3:  torch.Size([4800, 1])\n",
      "x.shape_pooling:  torch.Size([4800, 1])\n",
      "x.shape_final:  torch.Size([4800, 1])\n",
      "entries:  torch.Size([4800, 1]) torch.Size([2, 88742]) torch.Size([4800])\n",
      "x.shape_inicial:  torch.Size([4800, 1])\n",
      "x.shape_pre_conv1:  torch.Size([4800, 1])\n",
      "x.shape_conv1:  torch.Size([4800, 1])\n",
      "x.shape_conv3:  torch.Size([4800, 1])\n",
      "x.shape_pooling:  torch.Size([4800, 1])\n",
      "x.shape_final:  torch.Size([4800, 1])\n",
      "entries:  torch.Size([4800, 1]) torch.Size([2, 89439]) torch.Size([4800])\n",
      "x.shape_inicial:  torch.Size([4800, 1])\n",
      "x.shape_pre_conv1:  torch.Size([4800, 1])\n",
      "x.shape_conv1:  torch.Size([4800, 1])\n",
      "x.shape_conv3:  torch.Size([4800, 1])\n",
      "x.shape_pooling:  torch.Size([4800, 1])\n",
      "x.shape_final:  torch.Size([4800, 1])\n",
      "entries:  torch.Size([4800, 1]) torch.Size([2, 89234]) torch.Size([4800])\n",
      "x.shape_inicial:  torch.Size([4800, 1])\n",
      "x.shape_pre_conv1:  torch.Size([4800, 1])\n",
      "x.shape_conv1:  torch.Size([4800, 1])\n",
      "x.shape_conv3:  torch.Size([4800, 1])\n",
      "x.shape_pooling:  torch.Size([4800, 1])\n",
      "x.shape_final:  torch.Size([4800, 1])\n",
      "entries:  torch.Size([4800, 1]) torch.Size([2, 90023]) torch.Size([4800])\n",
      "x.shape_inicial:  torch.Size([4800, 1])\n",
      "x.shape_pre_conv1:  torch.Size([4800, 1])\n",
      "x.shape_conv1:  torch.Size([4800, 1])\n",
      "x.shape_conv3:  torch.Size([4800, 1])\n",
      "x.shape_pooling:  torch.Size([4800, 1])\n",
      "x.shape_final:  torch.Size([4800, 1])\n",
      "entries:  torch.Size([4800, 1]) torch.Size([2, 89944]) torch.Size([4800])\n",
      "x.shape_inicial:  torch.Size([4800, 1])\n",
      "x.shape_pre_conv1:  torch.Size([4800, 1])\n",
      "x.shape_conv1:  torch.Size([4800, 1])\n",
      "x.shape_conv3:  torch.Size([4800, 1])\n",
      "x.shape_pooling:  torch.Size([4800, 1])\n",
      "x.shape_final:  torch.Size([4800, 1])\n",
      "entries:  torch.Size([4800, 1]) torch.Size([2, 89626]) torch.Size([4800])\n",
      "x.shape_inicial:  torch.Size([4800, 1])\n",
      "x.shape_pre_conv1:  torch.Size([4800, 1])\n",
      "x.shape_conv1:  torch.Size([4800, 1])\n",
      "x.shape_conv3:  torch.Size([4800, 1])\n",
      "x.shape_pooling:  torch.Size([4800, 1])\n",
      "x.shape_final:  torch.Size([4800, 1])\n",
      "entries:  torch.Size([4800, 1]) torch.Size([2, 89078]) torch.Size([4800])\n",
      "x.shape_inicial:  torch.Size([4800, 1])\n",
      "x.shape_pre_conv1:  torch.Size([4800, 1])\n",
      "x.shape_conv1:  torch.Size([4800, 1])\n"
     ]
    },
    {
     "name": "stdout",
     "output_type": "stream",
     "text": [
      "x.shape_conv3:  torch.Size([4800, 1])\n",
      "x.shape_pooling:  torch.Size([4800, 1])\n",
      "x.shape_final:  torch.Size([4800, 1])\n",
      "entries:  torch.Size([4800, 1]) torch.Size([2, 89863]) torch.Size([4800])\n",
      "x.shape_inicial:  torch.Size([4800, 1])\n",
      "x.shape_pre_conv1:  torch.Size([4800, 1])\n",
      "x.shape_conv1:  torch.Size([4800, 1])\n",
      "x.shape_conv3:  torch.Size([4800, 1])\n",
      "x.shape_pooling:  torch.Size([4800, 1])\n",
      "x.shape_final:  torch.Size([4800, 1])\n",
      "entries:  torch.Size([4800, 1]) torch.Size([2, 89469]) torch.Size([4800])\n",
      "x.shape_inicial:  torch.Size([4800, 1])\n",
      "x.shape_pre_conv1:  torch.Size([4800, 1])\n",
      "x.shape_conv1:  torch.Size([4800, 1])\n",
      "x.shape_conv3:  torch.Size([4800, 1])\n",
      "x.shape_pooling:  torch.Size([4800, 1])\n",
      "x.shape_final:  torch.Size([4800, 1])\n",
      "entries:  torch.Size([4800, 1]) torch.Size([2, 89231]) torch.Size([4800])\n",
      "x.shape_inicial:  torch.Size([4800, 1])\n",
      "x.shape_pre_conv1:  torch.Size([4800, 1])\n",
      "x.shape_conv1:  torch.Size([4800, 1])\n",
      "x.shape_conv3:  torch.Size([4800, 1])\n",
      "x.shape_pooling:  torch.Size([4800, 1])\n",
      "x.shape_final:  torch.Size([4800, 1])\n",
      "entries:  torch.Size([4800, 1]) torch.Size([2, 89821]) torch.Size([4800])\n",
      "x.shape_inicial:  torch.Size([4800, 1])\n",
      "x.shape_pre_conv1:  torch.Size([4800, 1])\n",
      "x.shape_conv1:  torch.Size([4800, 1])\n",
      "x.shape_conv3:  torch.Size([4800, 1])\n",
      "x.shape_pooling:  torch.Size([4800, 1])\n",
      "x.shape_final:  torch.Size([4800, 1])\n",
      "entries:  torch.Size([4800, 1]) torch.Size([2, 89732]) torch.Size([4800])\n",
      "x.shape_inicial:  torch.Size([4800, 1])\n",
      "x.shape_pre_conv1:  torch.Size([4800, 1])\n",
      "x.shape_conv1:  torch.Size([4800, 1])\n",
      "x.shape_conv3:  torch.Size([4800, 1])\n",
      "x.shape_pooling:  torch.Size([4800, 1])\n",
      "x.shape_final:  torch.Size([4800, 1])\n",
      "entries:  torch.Size([4800, 1]) torch.Size([2, 88524]) torch.Size([4800])\n",
      "x.shape_inicial:  torch.Size([4800, 1])\n",
      "x.shape_pre_conv1:  torch.Size([4800, 1])\n",
      "x.shape_conv1:  torch.Size([4800, 1])\n",
      "x.shape_conv3:  torch.Size([4800, 1])\n",
      "x.shape_pooling:  torch.Size([4800, 1])\n",
      "x.shape_final:  torch.Size([4800, 1])\n",
      "entries:  torch.Size([4800, 1]) torch.Size([2, 88578]) torch.Size([4800])\n",
      "x.shape_inicial:  torch.Size([4800, 1])\n",
      "x.shape_pre_conv1:  torch.Size([4800, 1])\n",
      "x.shape_conv1:  torch.Size([4800, 1])\n",
      "x.shape_conv3:  torch.Size([4800, 1])\n",
      "x.shape_pooling:  torch.Size([4800, 1])\n",
      "x.shape_final:  torch.Size([4800, 1])\n",
      "entries:  torch.Size([4800, 1]) torch.Size([2, 88424]) torch.Size([4800])\n",
      "x.shape_inicial:  torch.Size([4800, 1])\n",
      "x.shape_pre_conv1:  torch.Size([4800, 1])\n",
      "x.shape_conv1:  torch.Size([4800, 1])\n",
      "x.shape_conv3:  torch.Size([4800, 1])\n",
      "x.shape_pooling:  torch.Size([4800, 1])\n",
      "x.shape_final:  torch.Size([4800, 1])\n",
      "entries:  torch.Size([4800, 1]) torch.Size([2, 89950]) torch.Size([4800])\n",
      "x.shape_inicial:  torch.Size([4800, 1])\n",
      "x.shape_pre_conv1:  torch.Size([4800, 1])\n",
      "x.shape_conv1:  torch.Size([4800, 1])\n",
      "x.shape_conv3:  torch.Size([4800, 1])\n",
      "x.shape_pooling:  torch.Size([4800, 1])\n",
      "x.shape_final:  torch.Size([4800, 1])\n",
      "entries:  torch.Size([4800, 1]) torch.Size([2, 89372]) torch.Size([4800])\n",
      "x.shape_inicial:  torch.Size([4800, 1])\n",
      "x.shape_pre_conv1:  torch.Size([4800, 1])\n",
      "x.shape_conv1:  torch.Size([4800, 1])\n",
      "x.shape_conv3:  torch.Size([4800, 1])\n",
      "x.shape_pooling:  torch.Size([4800, 1])\n",
      "x.shape_final:  torch.Size([4800, 1])\n",
      "entries:  torch.Size([4800, 1]) torch.Size([2, 88493]) torch.Size([4800])\n",
      "x.shape_inicial:  torch.Size([4800, 1])\n",
      "x.shape_pre_conv1:  torch.Size([4800, 1])\n",
      "x.shape_conv1:  torch.Size([4800, 1])\n",
      "x.shape_conv3:  torch.Size([4800, 1])\n",
      "x.shape_pooling:  torch.Size([4800, 1])\n",
      "x.shape_final:  torch.Size([4800, 1])\n",
      "entries:  torch.Size([4800, 1]) torch.Size([2, 89771]) torch.Size([4800])\n",
      "x.shape_inicial:  torch.Size([4800, 1])\n",
      "x.shape_pre_conv1:  torch.Size([4800, 1])\n",
      "x.shape_conv1:  torch.Size([4800, 1])\n",
      "x.shape_conv3:  torch.Size([4800, 1])\n",
      "x.shape_pooling:  torch.Size([4800, 1])\n",
      "x.shape_final:  torch.Size([4800, 1])\n",
      "entries:  torch.Size([4800, 1]) torch.Size([2, 89236]) torch.Size([4800])\n",
      "x.shape_inicial:  torch.Size([4800, 1])\n",
      "x.shape_pre_conv1:  torch.Size([4800, 1])\n",
      "x.shape_conv1:  torch.Size([4800, 1])\n",
      "x.shape_conv3:  torch.Size([4800, 1])\n",
      "x.shape_pooling:  torch.Size([4800, 1])\n",
      "x.shape_final:  torch.Size([4800, 1])\n",
      "entries:  torch.Size([4800, 1]) torch.Size([2, 89887]) torch.Size([4800])\n",
      "x.shape_inicial:  torch.Size([4800, 1])\n",
      "x.shape_pre_conv1:  torch.Size([4800, 1])\n",
      "x.shape_conv1:  torch.Size([4800, 1])\n",
      "x.shape_conv3:  torch.Size([4800, 1])\n",
      "x.shape_pooling:  torch.Size([4800, 1])\n",
      "x.shape_final:  torch.Size([4800, 1])\n",
      "entries:  torch.Size([4800, 1]) torch.Size([2, 88519]) torch.Size([4800])\n",
      "x.shape_inicial:  torch.Size([4800, 1])\n",
      "x.shape_pre_conv1:  torch.Size([4800, 1])\n",
      "x.shape_conv1:  torch.Size([4800, 1])\n",
      "x.shape_conv3:  torch.Size([4800, 1])\n",
      "x.shape_pooling:  torch.Size([4800, 1])\n",
      "x.shape_final:  torch.Size([4800, 1])\n",
      "entries:  torch.Size([4800, 1]) torch.Size([2, 89706]) torch.Size([4800])\n",
      "x.shape_inicial:  torch.Size([4800, 1])\n",
      "x.shape_pre_conv1:  torch.Size([4800, 1])\n",
      "x.shape_conv1:  torch.Size([4800, 1])\n",
      "x.shape_conv3:  torch.Size([4800, 1])\n",
      "x.shape_pooling:  torch.Size([4800, 1])\n",
      "x.shape_final:  torch.Size([4800, 1])\n",
      "entries:  torch.Size([4800, 1]) torch.Size([2, 89270]) torch.Size([4800])\n",
      "x.shape_inicial:  torch.Size([4800, 1])\n",
      "x.shape_pre_conv1:  torch.Size([4800, 1])\n",
      "x.shape_conv1:  torch.Size([4800, 1])\n",
      "x.shape_conv3:  torch.Size([4800, 1])\n",
      "x.shape_pooling:  torch.Size([4800, 1])\n",
      "x.shape_final:  torch.Size([4800, 1])\n",
      "entries:  torch.Size([4800, 1]) torch.Size([2, 88499]) torch.Size([4800])\n",
      "x.shape_inicial:  torch.Size([4800, 1])\n",
      "x.shape_pre_conv1:  torch.Size([4800, 1])\n",
      "x.shape_conv1:  torch.Size([4800, 1])\n",
      "x.shape_conv3:  torch.Size([4800, 1])\n",
      "x.shape_pooling:  torch.Size([4800, 1])\n",
      "x.shape_final:  torch.Size([4800, 1])\n",
      "entries:  torch.Size([4800, 1]) torch.Size([2, 89915]) torch.Size([4800])\n",
      "x.shape_inicial:  torch.Size([4800, 1])\n",
      "x.shape_pre_conv1:  torch.Size([4800, 1])\n",
      "x.shape_conv1:  torch.Size([4800, 1])\n",
      "x.shape_conv3:  torch.Size([4800, 1])\n",
      "x.shape_pooling:  torch.Size([4800, 1])\n",
      "x.shape_final:  torch.Size([4800, 1])\n",
      "entries:  torch.Size([4800, 1]) torch.Size([2, 89581]) torch.Size([4800])\n",
      "x.shape_inicial:  torch.Size([4800, 1])\n",
      "x.shape_pre_conv1:  torch.Size([4800, 1])\n",
      "x.shape_conv1:  torch.Size([4800, 1])\n",
      "x.shape_conv3:  torch.Size([4800, 1])\n",
      "x.shape_pooling:  torch.Size([4800, 1])\n",
      "x.shape_final:  torch.Size([4800, 1])\n",
      "entries:  torch.Size([4800, 1]) torch.Size([2, 88399]) torch.Size([4800])\n",
      "x.shape_inicial:  torch.Size([4800, 1])\n",
      "x.shape_pre_conv1:  torch.Size([4800, 1])\n",
      "x.shape_conv1:  torch.Size([4800, 1])\n",
      "x.shape_conv3:  torch.Size([4800, 1])\n",
      "x.shape_pooling:  torch.Size([4800, 1])\n",
      "x.shape_final:  torch.Size([4800, 1])\n",
      "entries:  torch.Size([4800, 1]) torch.Size([2, 89126]) torch.Size([4800])\n",
      "x.shape_inicial:  torch.Size([4800, 1])\n",
      "x.shape_pre_conv1:  torch.Size([4800, 1])\n",
      "x.shape_conv1:  torch.Size([4800, 1])\n",
      "x.shape_conv3:  torch.Size([4800, 1])\n",
      "x.shape_pooling:  torch.Size([4800, 1])\n",
      "x.shape_final:  torch.Size([4800, 1])\n",
      "entries:  torch.Size([4800, 1]) torch.Size([2, 89226]) torch.Size([4800])\n",
      "x.shape_inicial:  torch.Size([4800, 1])\n",
      "x.shape_pre_conv1:  torch.Size([4800, 1])\n",
      "x.shape_conv1:  torch.Size([4800, 1])\n",
      "x.shape_conv3:  torch.Size([4800, 1])\n",
      "x.shape_pooling:  torch.Size([4800, 1])\n",
      "x.shape_final:  torch.Size([4800, 1])\n",
      "entries:  torch.Size([4800, 1]) torch.Size([2, 89798]) torch.Size([4800])\n",
      "x.shape_inicial:  torch.Size([4800, 1])\n",
      "x.shape_pre_conv1:  torch.Size([4800, 1])\n",
      "x.shape_conv1:  torch.Size([4800, 1])\n",
      "x.shape_conv3:  torch.Size([4800, 1])\n",
      "x.shape_pooling:  torch.Size([4800, 1])\n",
      "x.shape_final:  torch.Size([4800, 1])\n",
      "entries:  torch.Size([4800, 1]) torch.Size([2, 89600]) torch.Size([4800])\n",
      "x.shape_inicial:  torch.Size([4800, 1])\n",
      "x.shape_pre_conv1:  torch.Size([4800, 1])\n",
      "x.shape_conv1:  torch.Size([4800, 1])\n",
      "x.shape_conv3:  torch.Size([4800, 1])\n",
      "x.shape_pooling:  torch.Size([4800, 1])\n",
      "x.shape_final:  torch.Size([4800, 1])\n",
      "entries:  torch.Size([4800, 1]) torch.Size([2, 88555]) torch.Size([4800])\n",
      "x.shape_inicial:  torch.Size([4800, 1])\n",
      "x.shape_pre_conv1:  torch.Size([4800, 1])\n",
      "x.shape_conv1:  torch.Size([4800, 1])\n",
      "x.shape_conv3:  torch.Size([4800, 1])\n",
      "x.shape_pooling:  torch.Size([4800, 1])\n",
      "x.shape_final:  torch.Size([4800, 1])\n",
      "entries:  torch.Size([4800, 1]) torch.Size([2, 90024]) torch.Size([4800])\n",
      "x.shape_inicial:  torch.Size([4800, 1])\n",
      "x.shape_pre_conv1:  torch.Size([4800, 1])\n",
      "x.shape_conv1:  torch.Size([4800, 1])\n"
     ]
    },
    {
     "name": "stdout",
     "output_type": "stream",
     "text": [
      "x.shape_conv3:  torch.Size([4800, 1])\n",
      "x.shape_pooling:  torch.Size([4800, 1])\n",
      "x.shape_final:  torch.Size([4800, 1])\n",
      "entries:  torch.Size([4800, 1]) torch.Size([2, 89520]) torch.Size([4800])\n",
      "x.shape_inicial:  torch.Size([4800, 1])\n",
      "x.shape_pre_conv1:  torch.Size([4800, 1])\n",
      "x.shape_conv1:  torch.Size([4800, 1])\n",
      "x.shape_conv3:  torch.Size([4800, 1])\n",
      "x.shape_pooling:  torch.Size([4800, 1])\n",
      "x.shape_final:  torch.Size([4800, 1])\n",
      "entries:  torch.Size([4800, 1]) torch.Size([2, 89308]) torch.Size([4800])\n",
      "x.shape_inicial:  torch.Size([4800, 1])\n",
      "x.shape_pre_conv1:  torch.Size([4800, 1])\n",
      "x.shape_conv1:  torch.Size([4800, 1])\n",
      "x.shape_conv3:  torch.Size([4800, 1])\n",
      "x.shape_pooling:  torch.Size([4800, 1])\n",
      "x.shape_final:  torch.Size([4800, 1])\n",
      "entries:  torch.Size([4800, 1]) torch.Size([2, 89097]) torch.Size([4800])\n",
      "x.shape_inicial:  torch.Size([4800, 1])\n",
      "x.shape_pre_conv1:  torch.Size([4800, 1])\n",
      "x.shape_conv1:  torch.Size([4800, 1])\n",
      "x.shape_conv3:  torch.Size([4800, 1])\n",
      "x.shape_pooling:  torch.Size([4800, 1])\n",
      "x.shape_final:  torch.Size([4800, 1])\n",
      "entries:  torch.Size([4800, 1]) torch.Size([2, 88542]) torch.Size([4800])\n",
      "x.shape_inicial:  torch.Size([4800, 1])\n",
      "x.shape_pre_conv1:  torch.Size([4800, 1])\n",
      "x.shape_conv1:  torch.Size([4800, 1])\n",
      "x.shape_conv3:  torch.Size([4800, 1])\n",
      "x.shape_pooling:  torch.Size([4800, 1])\n",
      "x.shape_final:  torch.Size([4800, 1])\n",
      "entries:  torch.Size([4800, 1]) torch.Size([2, 90026]) torch.Size([4800])\n",
      "x.shape_inicial:  torch.Size([4800, 1])\n",
      "x.shape_pre_conv1:  torch.Size([4800, 1])\n",
      "x.shape_conv1:  torch.Size([4800, 1])\n",
      "x.shape_conv3:  torch.Size([4800, 1])\n",
      "x.shape_pooling:  torch.Size([4800, 1])\n",
      "x.shape_final:  torch.Size([4800, 1])\n",
      "entries:  torch.Size([4800, 1]) torch.Size([2, 88511]) torch.Size([4800])\n",
      "x.shape_inicial:  torch.Size([4800, 1])\n",
      "x.shape_pre_conv1:  torch.Size([4800, 1])\n",
      "x.shape_conv1:  torch.Size([4800, 1])\n",
      "x.shape_conv3:  torch.Size([4800, 1])\n",
      "x.shape_pooling:  torch.Size([4800, 1])\n",
      "x.shape_final:  torch.Size([4800, 1])\n",
      "entries:  torch.Size([4800, 1]) torch.Size([2, 89223]) torch.Size([4800])\n",
      "x.shape_inicial:  torch.Size([4800, 1])\n",
      "x.shape_pre_conv1:  torch.Size([4800, 1])\n",
      "x.shape_conv1:  torch.Size([4800, 1])\n",
      "x.shape_conv3:  torch.Size([4800, 1])\n",
      "x.shape_pooling:  torch.Size([4800, 1])\n",
      "x.shape_final:  torch.Size([4800, 1])\n",
      "entries:  torch.Size([4800, 1]) torch.Size([2, 89929]) torch.Size([4800])\n",
      "x.shape_inicial:  torch.Size([4800, 1])\n",
      "x.shape_pre_conv1:  torch.Size([4800, 1])\n",
      "x.shape_conv1:  torch.Size([4800, 1])\n",
      "x.shape_conv3:  torch.Size([4800, 1])\n",
      "x.shape_pooling:  torch.Size([4800, 1])\n",
      "x.shape_final:  torch.Size([4800, 1])\n",
      "entries:  torch.Size([4800, 1]) torch.Size([2, 88757]) torch.Size([4800])\n",
      "x.shape_inicial:  torch.Size([4800, 1])\n",
      "x.shape_pre_conv1:  torch.Size([4800, 1])\n",
      "x.shape_conv1:  torch.Size([4800, 1])\n",
      "x.shape_conv3:  torch.Size([4800, 1])\n",
      "x.shape_pooling:  torch.Size([4800, 1])\n",
      "x.shape_final:  torch.Size([4800, 1])\n",
      "entries:  torch.Size([4800, 1]) torch.Size([2, 89053]) torch.Size([4800])\n",
      "x.shape_inicial:  torch.Size([4800, 1])\n",
      "x.shape_pre_conv1:  torch.Size([4800, 1])\n",
      "x.shape_conv1:  torch.Size([4800, 1])\n",
      "x.shape_conv3:  torch.Size([4800, 1])\n",
      "x.shape_pooling:  torch.Size([4800, 1])\n",
      "x.shape_final:  torch.Size([4800, 1])\n",
      "entries:  torch.Size([4800, 1]) torch.Size([2, 89033]) torch.Size([4800])\n",
      "x.shape_inicial:  torch.Size([4800, 1])\n",
      "x.shape_pre_conv1:  torch.Size([4800, 1])\n",
      "x.shape_conv1:  torch.Size([4800, 1])\n",
      "x.shape_conv3:  torch.Size([4800, 1])\n",
      "x.shape_pooling:  torch.Size([4800, 1])\n",
      "x.shape_final:  torch.Size([4800, 1])\n",
      "entries:  torch.Size([4800, 1]) torch.Size([2, 88147]) torch.Size([4800])\n",
      "x.shape_inicial:  torch.Size([4800, 1])\n",
      "x.shape_pre_conv1:  torch.Size([4800, 1])\n",
      "x.shape_conv1:  torch.Size([4800, 1])\n",
      "x.shape_conv3:  torch.Size([4800, 1])\n",
      "x.shape_pooling:  torch.Size([4800, 1])\n",
      "x.shape_final:  torch.Size([4800, 1])\n",
      "entries:  torch.Size([4800, 1]) torch.Size([2, 88671]) torch.Size([4800])\n",
      "x.shape_inicial:  torch.Size([4800, 1])\n",
      "x.shape_pre_conv1:  torch.Size([4800, 1])\n",
      "x.shape_conv1:  torch.Size([4800, 1])\n",
      "x.shape_conv3:  torch.Size([4800, 1])\n",
      "x.shape_pooling:  torch.Size([4800, 1])\n",
      "x.shape_final:  torch.Size([4800, 1])\n",
      "entries:  torch.Size([4800, 1]) torch.Size([2, 89588]) torch.Size([4800])\n",
      "x.shape_inicial:  torch.Size([4800, 1])\n",
      "x.shape_pre_conv1:  torch.Size([4800, 1])\n",
      "x.shape_conv1:  torch.Size([4800, 1])\n",
      "x.shape_conv3:  torch.Size([4800, 1])\n",
      "x.shape_pooling:  torch.Size([4800, 1])\n",
      "x.shape_final:  torch.Size([4800, 1])\n",
      "entries:  torch.Size([4800, 1]) torch.Size([2, 89682]) torch.Size([4800])\n",
      "x.shape_inicial:  torch.Size([4800, 1])\n",
      "x.shape_pre_conv1:  torch.Size([4800, 1])\n",
      "x.shape_conv1:  torch.Size([4800, 1])\n",
      "x.shape_conv3:  torch.Size([4800, 1])\n",
      "x.shape_pooling:  torch.Size([4800, 1])\n",
      "x.shape_final:  torch.Size([4800, 1])\n",
      "entries:  torch.Size([4800, 1]) torch.Size([2, 88626]) torch.Size([4800])\n",
      "x.shape_inicial:  torch.Size([4800, 1])\n",
      "x.shape_pre_conv1:  torch.Size([4800, 1])\n",
      "x.shape_conv1:  torch.Size([4800, 1])\n",
      "x.shape_conv3:  torch.Size([4800, 1])\n",
      "x.shape_pooling:  torch.Size([4800, 1])\n",
      "x.shape_final:  torch.Size([4800, 1])\n",
      "entries:  torch.Size([4800, 1]) torch.Size([2, 88732]) torch.Size([4800])\n",
      "x.shape_inicial:  torch.Size([4800, 1])\n",
      "x.shape_pre_conv1:  torch.Size([4800, 1])\n",
      "x.shape_conv1:  torch.Size([4800, 1])\n",
      "x.shape_conv3:  torch.Size([4800, 1])\n",
      "x.shape_pooling:  torch.Size([4800, 1])\n",
      "x.shape_final:  torch.Size([4800, 1])\n",
      "entries:  torch.Size([4800, 1]) torch.Size([2, 89540]) torch.Size([4800])\n",
      "x.shape_inicial:  torch.Size([4800, 1])\n",
      "x.shape_pre_conv1:  torch.Size([4800, 1])\n",
      "x.shape_conv1:  torch.Size([4800, 1])\n",
      "x.shape_conv3:  torch.Size([4800, 1])\n",
      "x.shape_pooling:  torch.Size([4800, 1])\n",
      "x.shape_final:  torch.Size([4800, 1])\n",
      "entries:  torch.Size([4800, 1]) torch.Size([2, 88539]) torch.Size([4800])\n",
      "x.shape_inicial:  torch.Size([4800, 1])\n",
      "x.shape_pre_conv1:  torch.Size([4800, 1])\n",
      "x.shape_conv1:  torch.Size([4800, 1])\n",
      "x.shape_conv3:  torch.Size([4800, 1])\n",
      "x.shape_pooling:  torch.Size([4800, 1])\n",
      "x.shape_final:  torch.Size([4800, 1])\n",
      "entries:  torch.Size([4800, 1]) torch.Size([2, 88844]) torch.Size([4800])\n",
      "x.shape_inicial:  torch.Size([4800, 1])\n",
      "x.shape_pre_conv1:  torch.Size([4800, 1])\n",
      "x.shape_conv1:  torch.Size([4800, 1])\n",
      "x.shape_conv3:  torch.Size([4800, 1])\n",
      "x.shape_pooling:  torch.Size([4800, 1])\n",
      "x.shape_final:  torch.Size([4800, 1])\n",
      "entries:  torch.Size([4800, 1]) torch.Size([2, 89179]) torch.Size([4800])\n",
      "x.shape_inicial:  torch.Size([4800, 1])\n",
      "x.shape_pre_conv1:  torch.Size([4800, 1])\n",
      "x.shape_conv1:  torch.Size([4800, 1])\n",
      "x.shape_conv3:  torch.Size([4800, 1])\n",
      "x.shape_pooling:  torch.Size([4800, 1])\n",
      "x.shape_final:  torch.Size([4800, 1])\n",
      "entries:  torch.Size([4800, 1]) torch.Size([2, 89102]) torch.Size([4800])\n",
      "x.shape_inicial:  torch.Size([4800, 1])\n",
      "x.shape_pre_conv1:  torch.Size([4800, 1])\n",
      "x.shape_conv1:  torch.Size([4800, 1])\n",
      "x.shape_conv3:  torch.Size([4800, 1])\n",
      "x.shape_pooling:  torch.Size([4800, 1])\n",
      "x.shape_final:  torch.Size([4800, 1])\n",
      "entries:  torch.Size([4800, 1]) torch.Size([2, 89140]) torch.Size([4800])\n",
      "x.shape_inicial:  torch.Size([4800, 1])\n",
      "x.shape_pre_conv1:  torch.Size([4800, 1])\n",
      "x.shape_conv1:  torch.Size([4800, 1])\n",
      "x.shape_conv3:  torch.Size([4800, 1])\n",
      "x.shape_pooling:  torch.Size([4800, 1])\n",
      "x.shape_final:  torch.Size([4800, 1])\n",
      "entries:  torch.Size([4800, 1]) torch.Size([2, 89137]) torch.Size([4800])\n",
      "x.shape_inicial:  torch.Size([4800, 1])\n",
      "x.shape_pre_conv1:  torch.Size([4800, 1])\n",
      "x.shape_conv1:  torch.Size([4800, 1])\n",
      "x.shape_conv3:  torch.Size([4800, 1])\n",
      "x.shape_pooling:  torch.Size([4800, 1])\n",
      "x.shape_final:  torch.Size([4800, 1])\n",
      "entries:  torch.Size([4800, 1]) torch.Size([2, 88276]) torch.Size([4800])\n",
      "x.shape_inicial:  torch.Size([4800, 1])\n",
      "x.shape_pre_conv1:  torch.Size([4800, 1])\n",
      "x.shape_conv1:  torch.Size([4800, 1])\n",
      "x.shape_conv3:  torch.Size([4800, 1])\n",
      "x.shape_pooling:  torch.Size([4800, 1])\n",
      "x.shape_final:  torch.Size([4800, 1])\n",
      "entries:  torch.Size([4800, 1]) torch.Size([2, 89209]) torch.Size([4800])\n",
      "x.shape_inicial:  torch.Size([4800, 1])\n",
      "x.shape_pre_conv1:  torch.Size([4800, 1])\n",
      "x.shape_conv1:  torch.Size([4800, 1])\n",
      "x.shape_conv3:  torch.Size([4800, 1])\n",
      "x.shape_pooling:  torch.Size([4800, 1])\n",
      "x.shape_final:  torch.Size([4800, 1])\n",
      "entries:  torch.Size([4800, 1]) torch.Size([2, 89117]) torch.Size([4800])\n",
      "x.shape_inicial:  torch.Size([4800, 1])\n",
      "x.shape_pre_conv1:  torch.Size([4800, 1])\n",
      "x.shape_conv1:  torch.Size([4800, 1])\n"
     ]
    },
    {
     "name": "stdout",
     "output_type": "stream",
     "text": [
      "x.shape_conv3:  torch.Size([4800, 1])\n",
      "x.shape_pooling:  torch.Size([4800, 1])\n",
      "x.shape_final:  torch.Size([4800, 1])\n",
      "entries:  torch.Size([4800, 1]) torch.Size([2, 87742]) torch.Size([4800])\n",
      "x.shape_inicial:  torch.Size([4800, 1])\n",
      "x.shape_pre_conv1:  torch.Size([4800, 1])\n",
      "x.shape_conv1:  torch.Size([4800, 1])\n",
      "x.shape_conv3:  torch.Size([4800, 1])\n",
      "x.shape_pooling:  torch.Size([4800, 1])\n",
      "x.shape_final:  torch.Size([4800, 1])\n",
      "entries:  torch.Size([4800, 1]) torch.Size([2, 89636]) torch.Size([4800])\n",
      "x.shape_inicial:  torch.Size([4800, 1])\n",
      "x.shape_pre_conv1:  torch.Size([4800, 1])\n",
      "x.shape_conv1:  torch.Size([4800, 1])\n",
      "x.shape_conv3:  torch.Size([4800, 1])\n",
      "x.shape_pooling:  torch.Size([4800, 1])\n",
      "x.shape_final:  torch.Size([4800, 1])\n",
      "entries:  torch.Size([4800, 1]) torch.Size([2, 88843]) torch.Size([4800])\n",
      "x.shape_inicial:  torch.Size([4800, 1])\n",
      "x.shape_pre_conv1:  torch.Size([4800, 1])\n",
      "x.shape_conv1:  torch.Size([4800, 1])\n",
      "x.shape_conv3:  torch.Size([4800, 1])\n",
      "x.shape_pooling:  torch.Size([4800, 1])\n",
      "x.shape_final:  torch.Size([4800, 1])\n",
      "entries:  torch.Size([4800, 1]) torch.Size([2, 89126]) torch.Size([4800])\n",
      "x.shape_inicial:  torch.Size([4800, 1])\n",
      "x.shape_pre_conv1:  torch.Size([4800, 1])\n",
      "x.shape_conv1:  torch.Size([4800, 1])\n",
      "x.shape_conv3:  torch.Size([4800, 1])\n",
      "x.shape_pooling:  torch.Size([4800, 1])\n",
      "x.shape_final:  torch.Size([4800, 1])\n",
      "entries:  torch.Size([4800, 1]) torch.Size([2, 88909]) torch.Size([4800])\n",
      "x.shape_inicial:  torch.Size([4800, 1])\n",
      "x.shape_pre_conv1:  torch.Size([4800, 1])\n",
      "x.shape_conv1:  torch.Size([4800, 1])\n",
      "x.shape_conv3:  torch.Size([4800, 1])\n",
      "x.shape_pooling:  torch.Size([4800, 1])\n",
      "x.shape_final:  torch.Size([4800, 1])\n",
      "entries:  torch.Size([4800, 1]) torch.Size([2, 88546]) torch.Size([4800])\n",
      "x.shape_inicial:  torch.Size([4800, 1])\n",
      "x.shape_pre_conv1:  torch.Size([4800, 1])\n",
      "x.shape_conv1:  torch.Size([4800, 1])\n",
      "x.shape_conv3:  torch.Size([4800, 1])\n",
      "x.shape_pooling:  torch.Size([4800, 1])\n",
      "x.shape_final:  torch.Size([4800, 1])\n",
      "entries:  torch.Size([4800, 1]) torch.Size([2, 88593]) torch.Size([4800])\n",
      "x.shape_inicial:  torch.Size([4800, 1])\n",
      "x.shape_pre_conv1:  torch.Size([4800, 1])\n",
      "x.shape_conv1:  torch.Size([4800, 1])\n",
      "x.shape_conv3:  torch.Size([4800, 1])\n",
      "x.shape_pooling:  torch.Size([4800, 1])\n",
      "x.shape_final:  torch.Size([4800, 1])\n",
      "entries:  torch.Size([4800, 1]) torch.Size([2, 89296]) torch.Size([4800])\n",
      "x.shape_inicial:  torch.Size([4800, 1])\n",
      "x.shape_pre_conv1:  torch.Size([4800, 1])\n",
      "x.shape_conv1:  torch.Size([4800, 1])\n",
      "x.shape_conv3:  torch.Size([4800, 1])\n",
      "x.shape_pooling:  torch.Size([4800, 1])\n",
      "x.shape_final:  torch.Size([4800, 1])\n",
      "entries:  torch.Size([4800, 1]) torch.Size([2, 88360]) torch.Size([4800])\n",
      "x.shape_inicial:  torch.Size([4800, 1])\n",
      "x.shape_pre_conv1:  torch.Size([4800, 1])\n",
      "x.shape_conv1:  torch.Size([4800, 1])\n",
      "x.shape_conv3:  torch.Size([4800, 1])\n",
      "x.shape_pooling:  torch.Size([4800, 1])\n",
      "x.shape_final:  torch.Size([4800, 1])\n",
      "entries:  torch.Size([4800, 1]) torch.Size([2, 89054]) torch.Size([4800])\n",
      "x.shape_inicial:  torch.Size([4800, 1])\n",
      "x.shape_pre_conv1:  torch.Size([4800, 1])\n",
      "x.shape_conv1:  torch.Size([4800, 1])\n",
      "x.shape_conv3:  torch.Size([4800, 1])\n",
      "x.shape_pooling:  torch.Size([4800, 1])\n",
      "x.shape_final:  torch.Size([4800, 1])\n",
      "entries:  torch.Size([4800, 1]) torch.Size([2, 88226]) torch.Size([4800])\n",
      "x.shape_inicial:  torch.Size([4800, 1])\n",
      "x.shape_pre_conv1:  torch.Size([4800, 1])\n",
      "x.shape_conv1:  torch.Size([4800, 1])\n",
      "x.shape_conv3:  torch.Size([4800, 1])\n",
      "x.shape_pooling:  torch.Size([4800, 1])\n",
      "x.shape_final:  torch.Size([4800, 1])\n",
      "entries:  torch.Size([4800, 1]) torch.Size([2, 89749]) torch.Size([4800])\n",
      "x.shape_inicial:  torch.Size([4800, 1])\n",
      "x.shape_pre_conv1:  torch.Size([4800, 1])\n",
      "x.shape_conv1:  torch.Size([4800, 1])\n",
      "x.shape_conv3:  torch.Size([4800, 1])\n",
      "x.shape_pooling:  torch.Size([4800, 1])\n",
      "x.shape_final:  torch.Size([4800, 1])\n",
      "entries:  torch.Size([4800, 1]) torch.Size([2, 89237]) torch.Size([4800])\n",
      "x.shape_inicial:  torch.Size([4800, 1])\n",
      "x.shape_pre_conv1:  torch.Size([4800, 1])\n",
      "x.shape_conv1:  torch.Size([4800, 1])\n",
      "x.shape_conv3:  torch.Size([4800, 1])\n",
      "x.shape_pooling:  torch.Size([4800, 1])\n",
      "x.shape_final:  torch.Size([4800, 1])\n",
      "entries:  torch.Size([4800, 1]) torch.Size([2, 89712]) torch.Size([4800])\n",
      "x.shape_inicial:  torch.Size([4800, 1])\n",
      "x.shape_pre_conv1:  torch.Size([4800, 1])\n",
      "x.shape_conv1:  torch.Size([4800, 1])\n",
      "x.shape_conv3:  torch.Size([4800, 1])\n",
      "x.shape_pooling:  torch.Size([4800, 1])\n",
      "x.shape_final:  torch.Size([4800, 1])\n",
      "entries:  torch.Size([4800, 1]) torch.Size([2, 89620]) torch.Size([4800])\n",
      "x.shape_inicial:  torch.Size([4800, 1])\n",
      "x.shape_pre_conv1:  torch.Size([4800, 1])\n",
      "x.shape_conv1:  torch.Size([4800, 1])\n",
      "x.shape_conv3:  torch.Size([4800, 1])\n",
      "x.shape_pooling:  torch.Size([4800, 1])\n",
      "x.shape_final:  torch.Size([4800, 1])\n",
      "entries:  torch.Size([4800, 1]) torch.Size([2, 89170]) torch.Size([4800])\n",
      "x.shape_inicial:  torch.Size([4800, 1])\n",
      "x.shape_pre_conv1:  torch.Size([4800, 1])\n",
      "x.shape_conv1:  torch.Size([4800, 1])\n",
      "x.shape_conv3:  torch.Size([4800, 1])\n",
      "x.shape_pooling:  torch.Size([4800, 1])\n",
      "x.shape_final:  torch.Size([4800, 1])\n",
      "entries:  torch.Size([4800, 1]) torch.Size([2, 90128]) torch.Size([4800])\n",
      "x.shape_inicial:  torch.Size([4800, 1])\n",
      "x.shape_pre_conv1:  torch.Size([4800, 1])\n",
      "x.shape_conv1:  torch.Size([4800, 1])\n",
      "x.shape_conv3:  torch.Size([4800, 1])\n",
      "x.shape_pooling:  torch.Size([4800, 1])\n",
      "x.shape_final:  torch.Size([4800, 1])\n",
      "entries:  torch.Size([4800, 1]) torch.Size([2, 89156]) torch.Size([4800])\n",
      "x.shape_inicial:  torch.Size([4800, 1])\n",
      "x.shape_pre_conv1:  torch.Size([4800, 1])\n",
      "x.shape_conv1:  torch.Size([4800, 1])\n",
      "x.shape_conv3:  torch.Size([4800, 1])\n",
      "x.shape_pooling:  torch.Size([4800, 1])\n",
      "x.shape_final:  torch.Size([4800, 1])\n",
      "entries:  torch.Size([4800, 1]) torch.Size([2, 89004]) torch.Size([4800])\n",
      "x.shape_inicial:  torch.Size([4800, 1])\n",
      "x.shape_pre_conv1:  torch.Size([4800, 1])\n",
      "x.shape_conv1:  torch.Size([4800, 1])\n",
      "x.shape_conv3:  torch.Size([4800, 1])\n",
      "x.shape_pooling:  torch.Size([4800, 1])\n",
      "x.shape_final:  torch.Size([4800, 1])\n",
      "entries:  torch.Size([4800, 1]) torch.Size([2, 89001]) torch.Size([4800])\n",
      "x.shape_inicial:  torch.Size([4800, 1])\n",
      "x.shape_pre_conv1:  torch.Size([4800, 1])\n",
      "x.shape_conv1:  torch.Size([4800, 1])\n",
      "x.shape_conv3:  torch.Size([4800, 1])\n",
      "x.shape_pooling:  torch.Size([4800, 1])\n",
      "x.shape_final:  torch.Size([4800, 1])\n",
      "entries:  torch.Size([4800, 1]) torch.Size([2, 88894]) torch.Size([4800])\n",
      "x.shape_inicial:  torch.Size([4800, 1])\n",
      "x.shape_pre_conv1:  torch.Size([4800, 1])\n",
      "x.shape_conv1:  torch.Size([4800, 1])\n",
      "x.shape_conv3:  torch.Size([4800, 1])\n",
      "x.shape_pooling:  torch.Size([4800, 1])\n",
      "x.shape_final:  torch.Size([4800, 1])\n",
      "entries:  torch.Size([4800, 1]) torch.Size([2, 89434]) torch.Size([4800])\n",
      "x.shape_inicial:  torch.Size([4800, 1])\n"
     ]
    },
    {
     "name": "stderr",
     "output_type": "stream",
     "text": [
      "\n",
      "KeyboardInterrupt\n",
      "\n"
     ]
    }
   ],
   "source": [
    "from torch_geometric.data import DataLoader\n",
    "import warnings\n",
    "warnings.filterwarnings(\"ignore\")\n",
    "\n",
    "# Cross EntrophyLoss\n",
    "loss_fn = torch.nn.CrossEntropyLoss()\n",
    "optimizer = torch.optim.Adam(model.parameters(), lr=0.0007)  \n",
    "# Use GPU for training\n",
    "device = torch.device(\"cuda:0\" if torch.cuda.is_available() else \"cpu\")\n",
    "model = model.to(device)\n",
    "# Wrap data in a data loader\n",
    "data_size = len(data)\n",
    "NUM_GRAPHS_PER_BATCH = 64\n",
    "loader = DataLoader(data[:int(data_size * 0.8)], \n",
    "                    batch_size=NUM_GRAPHS_PER_BATCH, shuffle=True)\n",
    "test_loader = DataLoader(data[int(data_size * 0.8):], \n",
    "                         batch_size=NUM_GRAPHS_PER_BATCH, shuffle=True)\n",
    "\n",
    "def train(data):\n",
    "    # Enumerate over the data\n",
    "    for batch in loader:\n",
    "      # Use GPU\n",
    "      batch.to(device)  \n",
    "      # Reset gradients\n",
    "      optimizer.zero_grad() \n",
    "      # Passing the node features and the connection info\n",
    "      print('entries: ',batch.x.float().shape, batch.edge_index.shape, batch.batch.shape) #ERASE THIS\n",
    "      pred, embedding = model(batch.x.float(), batch.edge_index, batch.batch) \n",
    "      # Calculating the loss and gradients\n",
    "      loss = torch.sqrt(loss_fn(pred, batch.y))       \n",
    "      loss.backward()  \n",
    "      # Update using the gradients\n",
    "      optimizer.step()   \n",
    "    return loss, embedding\n",
    "print(\"Starting training...\")\n",
    "losses = []\n",
    "for epoch in range(5):\n",
    "    loss, h = train(data)\n",
    "    losses.append(loss)\n",
    "    if epoch % 1 == 0:\n",
    "      print(f\"Epoch {epoch} | Train Loss {loss}\")"
   ]
  },
  {
   "cell_type": "code",
   "execution_count": 18,
   "metadata": {},
   "outputs": [
    {
     "name": "stdout",
     "output_type": "stream",
     "text": [
      "(4800, 4800)\n",
      "(4800, 4800)\n",
      "(4800, 4800)\n",
      "(4800, 4800)\n",
      "(4800, 4800)\n",
      "(4800, 4800)\n",
      "(4800, 4800)\n",
      "(4800, 4800)\n",
      "(4800, 4800)\n",
      "(4800, 4800)\n",
      "(4800, 4800)\n",
      "(4800, 4800)\n",
      "(4800, 4800)\n",
      "(4800, 4800)\n",
      "(4800, 4800)\n",
      "(4800, 4800)\n",
      "(4800, 4800)\n",
      "(4800, 4800)\n",
      "(4800, 4800)\n",
      "(4800, 4800)\n",
      "(4800, 4800)\n",
      "(4800, 4800)\n",
      "(4800, 4800)\n",
      "(4800, 4800)\n",
      "(4800, 4800)\n",
      "(4800, 4800)\n",
      "(4800, 4800)\n",
      "(4800, 4800)\n",
      "(4800, 4800)\n",
      "(4800, 4800)\n",
      "(4800, 4800)\n",
      "(4800, 4800)\n",
      "(4800, 4800)\n",
      "(4800, 4800)\n",
      "(4800, 4800)\n",
      "(4800, 4800)\n",
      "(4800, 4800)\n",
      "(4800, 4800)\n",
      "(4800, 4800)\n",
      "(4800, 4800)\n",
      "(4800, 4800)\n",
      "(4800, 4800)\n",
      "(4800, 4800)\n",
      "(4800, 4800)\n",
      "(4800, 4800)\n",
      "(4800, 4800)\n",
      "(4800, 4800)\n",
      "(4800, 4800)\n",
      "(4800, 4800)\n",
      "(4800, 4800)\n",
      "(4800, 4800)\n",
      "(4800, 4800)\n",
      "(4800, 4800)\n",
      "(4800, 4800)\n",
      "(4800, 4800)\n",
      "(4800, 4800)\n",
      "(4800, 4800)\n",
      "(4800, 4800)\n",
      "(4800, 4800)\n",
      "(4800, 4800)\n",
      "(4800, 4800)\n",
      "(4800, 4800)\n",
      "(4800, 4800)\n",
      "(4800, 4800)\n",
      "(4800, 4800)\n",
      "(4800, 4800)\n",
      "(4800, 4800)\n",
      "(4800, 4800)\n",
      "(4800, 4800)\n",
      "(4800, 4800)\n",
      "(4800, 4800)\n",
      "(4800, 4800)\n",
      "(4800, 4800)\n",
      "(4800, 4800)\n",
      "(4800, 4800)\n",
      "(4800, 4800)\n",
      "(4800, 4800)\n",
      "(4800, 4800)\n",
      "(4800, 4800)\n",
      "(4800, 4800)\n",
      "(4800, 4800)\n",
      "(4800, 4800)\n",
      "(4800, 4800)\n",
      "(4800, 4800)\n",
      "(4800, 4800)\n",
      "(4800, 4800)\n",
      "(4800, 4800)\n",
      "(4800, 4800)\n",
      "(4800, 4800)\n",
      "(4800, 4800)\n",
      "(4800, 4800)\n",
      "(4800, 4800)\n",
      "(4800, 4800)\n",
      "(4800, 4800)\n",
      "(4800, 4800)\n",
      "(4800, 4800)\n",
      "(4800, 4800)\n",
      "(4800, 4800)\n",
      "(4800, 4800)\n",
      "(4800, 4800)\n",
      "(4800, 4800)\n",
      "(4800, 4800)\n",
      "(4800, 4800)\n",
      "(4800, 4800)\n",
      "(4800, 4800)\n",
      "(4800, 4800)\n",
      "(4800, 4800)\n",
      "(4800, 4800)\n",
      "(4800, 4800)\n",
      "(4800, 4800)\n",
      "(4800, 4800)\n",
      "(4800, 4800)\n",
      "(2400, 2400)\n"
     ]
    }
   ],
   "source": [
    "for batch in loader:\n",
    "    print(batch.size())"
   ]
  },
  {
   "cell_type": "code",
   "execution_count": null,
   "metadata": {},
   "outputs": [],
   "source": [
    "NUM_GRAPHS_PER_BATCH = 64\n",
    "data_temp = data[:int(data_size * 0.8)]\n",
    "loader = DataLoader(data_temp, \n",
    "                    batch_size=NUM_GRAPHS_PER_BATCH, shuffle=True)"
   ]
  },
  {
   "cell_type": "code",
   "execution_count": null,
   "metadata": {
    "scrolled": false
   },
   "outputs": [],
   "source": [
    "data_temp[0].x.t()"
   ]
  },
  {
   "cell_type": "code",
   "execution_count": null,
   "metadata": {},
   "outputs": [],
   "source": [
    "for batch in loader:\n",
    "    batch.x\n",
    "    break"
   ]
  },
  {
   "cell_type": "code",
   "execution_count": null,
   "metadata": {},
   "outputs": [],
   "source": [
    "batch"
   ]
  },
  {
   "cell_type": "code",
   "execution_count": null,
   "metadata": {},
   "outputs": [],
   "source": [
    "batch.x.t().shape"
   ]
  },
  {
   "cell_type": "markdown",
   "metadata": {
    "id": "Axl1fpt1N_dv"
   },
   "source": [
    "### Visualizing the Training loss"
   ]
  },
  {
   "cell_type": "code",
   "execution_count": null,
   "metadata": {
    "colab": {
     "base_uri": "https://localhost:8080/",
     "height": 283
    },
    "id": "Z3Eh6uL15AYX",
    "outputId": "84c43dc9-2180-466e-d56f-b37cc8c19dd9"
   },
   "outputs": [],
   "source": [
    "# Visualize learning (training loss)\n",
    "import seaborn as sns\n",
    "losses_float = [float(loss.cpu().detach().numpy()) for loss in losses] \n",
    "loss_indices = [i for i,l in enumerate(losses_float)] \n",
    "plt = sns.lineplot(loss_indices, losses_float)\n",
    "plt\n",
    "\n"
   ]
  },
  {
   "cell_type": "code",
   "execution_count": null,
   "metadata": {},
   "outputs": [],
   "source": [
    "pause_here"
   ]
  },
  {
   "cell_type": "markdown",
   "metadata": {
    "id": "plirCWZL3RAQ"
   },
   "source": [
    "### Getting a test prediction"
   ]
  },
  {
   "cell_type": "code",
   "execution_count": null,
   "metadata": {
    "colab": {
     "base_uri": "https://localhost:8080/"
    },
    "id": "mpnH7cf03Uxi",
    "outputId": "a77311bd-b976-4894-f3fa-628e5ceb3f7f"
   },
   "outputs": [],
   "source": [
    "import pandas as pd \n",
    "test_batch = next(iter(test_loader))\n",
    "with torch.no_grad():\n",
    "    test_batch.to(device)\n",
    "    pred, embed = model(test_batch.x.float(), test_batch.edge_index, test_batch.batch) \n",
    "    pred=torch.argmax(pred,dim=1)\n",
    "print(test_batch.y[0])#Actual REsult\n",
    "print(pred[0])#Predicted Result\n"
   ]
  },
  {
   "cell_type": "code",
   "execution_count": null,
   "metadata": {
    "id": "irjVC3CEq_c1"
   },
   "outputs": [],
   "source": [
    "import torch\n",
    "import networkx as nx\n",
    "import matplotlib.pyplot as plt\n",
    "\n",
    "\n",
    "def visualize(h, color, epoch=None, loss=None):\n",
    "    plt.figure(figsize=(7,7))\n",
    "    plt.xticks([])\n",
    "    plt.yticks([])\n",
    "\n",
    "    if torch.is_tensor(h):\n",
    "        h = h.detach().cpu().numpy()\n",
    "        plt.scatter(h[:, 0], h[:, 1], s=140, c=color, cmap=\"Set2\")\n",
    "        if epoch is not None and loss is not None:\n",
    "            plt.xlabel(f'Epoch: {epoch}, Loss: {loss.item():.4f}', fontsize=16)\n",
    "    else:\n",
    "        nx.draw_networkx(G, pos=nx.spring_layout(G, seed=42), with_labels=False,\n",
    "                         node_color=color, cmap=\"Set2\")\n",
    "    plt.show()"
   ]
  },
  {
   "cell_type": "code",
   "execution_count": null,
   "metadata": {
    "colab": {
     "base_uri": "https://localhost:8080/"
    },
    "id": "O2wL9bNqr6WQ",
    "outputId": "625c3108-aa67-4707-a29c-9e13a913c7b8"
   },
   "outputs": [],
   "source": [
    "data"
   ]
  },
  {
   "cell_type": "code",
   "execution_count": null,
   "metadata": {
    "colab": {
     "base_uri": "https://localhost:8080/",
     "height": 823
    },
    "id": "fKhLAEwYtVd1",
    "outputId": "8989b7f3-bef4-49c3-88e1-9b75d493eee2"
   },
   "outputs": [],
   "source": [
    "dataset=data[1]\n",
    "print(f'Is undirected: {dataset.is_undirected()}')\n",
    "from torch_geometric.utils import to_networkx\n",
    "G = to_networkx(dataset, to_undirected=True)\n",
    " \n",
    "visualize(G, \"yellow\") \n",
    "visualize(G, \"red\")"
   ]
  },
  {
   "cell_type": "code",
   "execution_count": null,
   "metadata": {
    "colab": {
     "base_uri": "https://localhost:8080/"
    },
    "id": "SPWfc-VPr_qZ",
    "outputId": "ec8c7f27-b9e5-47da-874a-e6e763ec7d67"
   },
   "outputs": [],
   "source": [
    "dataset.y"
   ]
  }
 ],
 "metadata": {
  "accelerator": "GPU",
  "colab": {
   "collapsed_sections": [
    "cSTDAc0jZTON",
    "HBodIcNlfqOF",
    "lhJYtenTje8-",
    "Axl1fpt1N_dv",
    "BQnbktyWU3r3"
   ],
   "name": "MNIST_Superpixel_GCN.ipynb",
   "provenance": []
  },
  "kernelspec": {
   "display_name": "Python 3 (ipykernel)",
   "language": "python",
   "name": "python3"
  },
  "language_info": {
   "codemirror_mode": {
    "name": "ipython",
    "version": 3
   },
   "file_extension": ".py",
   "mimetype": "text/x-python",
   "name": "python",
   "nbconvert_exporter": "python",
   "pygments_lexer": "ipython3",
   "version": "3.10.5"
  }
 },
 "nbformat": 4,
 "nbformat_minor": 1
}
