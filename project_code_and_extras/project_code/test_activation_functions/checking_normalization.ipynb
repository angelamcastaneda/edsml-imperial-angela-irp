{
 "cells": [
  {
   "cell_type": "code",
   "execution_count": 1,
   "id": "d91e0805",
   "metadata": {},
   "outputs": [],
   "source": [
    "import sys\n",
    "\n",
    "sys.path.insert(0, '../auxiliary_scripts/')"
   ]
  },
  {
   "cell_type": "code",
   "execution_count": 2,
   "id": "2e04dfc9",
   "metadata": {},
   "outputs": [],
   "source": [
    "import numpy as np\n",
    "import vtktools\n",
    "import torch\n",
    "import matplotlib.pyplot as plt "
   ]
  },
  {
   "cell_type": "code",
   "execution_count": 3,
   "id": "55b9cb16",
   "metadata": {},
   "outputs": [],
   "source": [
    "#import AE_Models\n",
    "from train_AE_functions import train_AE, evaluate"
   ]
  },
  {
   "cell_type": "code",
   "execution_count": 4,
   "id": "5504d3bf",
   "metadata": {},
   "outputs": [],
   "source": [
    "from graph_functions import get_node_features, get_complete_edge_list "
   ]
  },
  {
   "cell_type": "code",
   "execution_count": 5,
   "id": "139b1433",
   "metadata": {},
   "outputs": [],
   "source": [
    "from graph_functions import create_graph_data_list_mnist\n",
    "from plot_results_mnist import evaluate_and_plot_mnist , compare_plots_models_mnist "
   ]
  },
  {
   "cell_type": "code",
   "execution_count": 6,
   "id": "5de9efb3",
   "metadata": {
    "scrolled": true
   },
   "outputs": [],
   "source": [
    "from graph_functions import create_graph_data_list_vtu_file\n",
    "from plot_results_vtu import plot_model_2d_vtu, compare_plots_models_2d_vtu "
   ]
  },
  {
   "cell_type": "code",
   "execution_count": 7,
   "id": "e3b76861",
   "metadata": {},
   "outputs": [],
   "source": [
    "from rank_models import plot_losses , rank_losses"
   ]
  },
  {
   "cell_type": "markdown",
   "id": "bdf084ef",
   "metadata": {},
   "source": [
    "# Understanding MNIST"
   ]
  },
  {
   "cell_type": "code",
   "execution_count": 8,
   "id": "be4a8e4e",
   "metadata": {},
   "outputs": [],
   "source": [
    "graph_data_list_mnist , n_points = create_graph_data_list_mnist(num_samples_to_use=1000, mnist_path=\"../../Datasets/\")"
   ]
  },
  {
   "cell_type": "code",
   "execution_count": 9,
   "id": "d6f3a139",
   "metadata": {
    "scrolled": true
   },
   "outputs": [],
   "source": [
    "mnist_min = [ graph_data_list_mnist[i].x.numpy().min() for i in range(len(graph_data_list_mnist)) ]\n",
    "mnist_min = np.array(mnist_min)\n",
    "\n",
    "mnist_means = [ graph_data_list_mnist[i].x.numpy().mean() for i in range(len(graph_data_list_mnist)) ]\n",
    "mnist_means = np.array(mnist_means)\n",
    "\n",
    "mnist_max = [ graph_data_list_mnist[i].x.numpy().max() for i in range(len(graph_data_list_mnist)) ]\n",
    "mnist_max = np.array(mnist_max)"
   ]
  },
  {
   "cell_type": "code",
   "execution_count": 10,
   "id": "50b1a819",
   "metadata": {},
   "outputs": [
    {
     "data": {
      "text/plain": [
       "(array([ 94.,   0.,   0.,   0.,   0.,   0.,   0.,   0.,   0., 906.]),\n",
       " array([0.99607843, 0.9964706 , 0.99686277, 0.9972549 , 0.99764705,\n",
       "        0.99803925, 0.9984314 , 0.9988235 , 0.99921566, 0.99960786,\n",
       "        1.        ], dtype=float32),\n",
       " <BarContainer object of 10 artists>)"
      ]
     },
     "execution_count": 10,
     "metadata": {},
     "output_type": "execute_result"
    },
    {
     "data": {
      "image/png": "[encoded data removed]",
      "text/plain": [
       "<Figure size 864x288 with 3 Axes>"
      ]
     },
     "metadata": {
      "needs_background": "light"
     },
     "output_type": "display_data"
    }
   ],
   "source": [
    "fig, axs = plt.subplots(1, 3, figsize=(12,4)) \n",
    "\n",
    "axs[0].hist( mnist_min )\n",
    "axs[1].hist( mnist_means )\n",
    "axs[2].hist( mnist_max )"
   ]
  },
  {
   "cell_type": "code",
   "execution_count": 11,
   "id": "8e760958",
   "metadata": {},
   "outputs": [
    {
     "name": "stdout",
     "output_type": "stream",
     "text": [
      "(1000, 784, 1)\n"
     ]
    }
   ],
   "source": [
    "mnist_complete = [ graph_data_list_mnist[i].x.numpy() for i in range(len(graph_data_list_mnist)) ]\n",
    "\n",
    "mnist_complete = np.array(mnist_complete)\n",
    "print(mnist_complete.shape)\n",
    "mnist_complete = mnist_complete.reshape(-1)  "
   ]
  },
  {
   "cell_type": "code",
   "execution_count": 12,
   "id": "863c8109",
   "metadata": {},
   "outputs": [
    {
     "name": "stdout",
     "output_type": "stream",
     "text": [
      "mnist_complete.shape:  (784000,)\n",
      "np.percentile(mnist_complete, q=[1,10,25,50,75,90,99]) :  [0.         0.         0.         0.         0.         0.78039217\n",
      " 0.99607843]\n",
      "\n",
      "\n",
      "mnist_complete.min() :  0.0\n",
      "mnist_complete.max() :  1.0\n",
      "mnist_complete.mean() :  0.12823895\n"
     ]
    }
   ],
   "source": [
    "print('mnist_complete.shape: ', mnist_complete.shape)\n",
    "print('np.percentile(mnist_complete, q=[1,10,25,50,75,90,99]) : ', np.percentile(mnist_complete, q=[1,10,25,50,75,90,99]))\n",
    "print('\\n')\n",
    "\n",
    "print('mnist_complete.min() : ', mnist_complete.min())\n",
    "print('mnist_complete.max() : ', mnist_complete.max())\n",
    "print('mnist_complete.mean() : ', mnist_complete.mean())"
   ]
  },
  {
   "cell_type": "code",
   "execution_count": 13,
   "id": "86cc7f6d",
   "metadata": {},
   "outputs": [
    {
     "data": {
      "text/plain": [
       "(array([649231.,   9619.,   8663.,   7435.,   7570.,   8032.,   7768.,\n",
       "          8709.,  10145.,  66828.]),\n",
       " array([0. , 0.1, 0.2, 0.3, 0.4, 0.5, 0.6, 0.7, 0.8, 0.9, 1. ],\n",
       "       dtype=float32),\n",
       " <BarContainer object of 10 artists>)"
      ]
     },
     "execution_count": 13,
     "metadata": {},
     "output_type": "execute_result"
    },
    {
     "data": {
      "image/png": "[encoded data removed]",
      "text/plain": [
       "<Figure size 432x288 with 1 Axes>"
      ]
     },
     "metadata": {
      "needs_background": "light"
     },
     "output_type": "display_data"
    }
   ],
   "source": [
    "plt.hist( mnist_complete )"
   ]
  },
  {
   "cell_type": "code",
   "execution_count": 14,
   "id": "172e89fe",
   "metadata": {},
   "outputs": [
    {
     "data": {
      "text/plain": [
       "<matplotlib.image.AxesImage at 0x16e13c657b0>"
      ]
     },
     "execution_count": 14,
     "metadata": {},
     "output_type": "execute_result"
    },
    {
     "data": {
      "image/png": "[encoded data removed]",
      "text/plain": [
       "<Figure size 432x288 with 1 Axes>"
      ]
     },
     "metadata": {
      "needs_background": "light"
     },
     "output_type": "display_data"
    }
   ],
   "source": [
    "# Plot a random number \n",
    "random_sample = 108\n",
    "plt.imshow( np.reshape( graph_data_list_mnist[random_sample].x.numpy() , (28, 28)), cmap = 'gray_r' )"
   ]
  },
  {
   "cell_type": "markdown",
   "id": "10b82972",
   "metadata": {},
   "source": [
    "# Understanding air pollution dataset"
   ]
  },
  {
   "cell_type": "code",
   "execution_count": 15,
   "id": "9bbcbb07",
   "metadata": {},
   "outputs": [],
   "source": [
    "location = '../../Datasets/air_pollution_data/2d_canyon_' \n",
    "start_index = 0\n",
    "end_index = 401\n",
    "\n",
    "vtu_file_locations = [ location + str(i) + '.vtu' for i in range(start_index, end_index)]\n",
    "features_list = ['TracerBackground']  # ['TracerBackground','Velocity']"
   ]
  },
  {
   "cell_type": "code",
   "execution_count": 16,
   "id": "ac61ba62",
   "metadata": {},
   "outputs": [],
   "source": [
    "big_numpy_air = []\n",
    "\n",
    "#Create an empty graph data list\n",
    "graph_data_list = []\n",
    "    \n",
    "for file_location in vtu_file_locations:\n",
    "    \n",
    "    vtu_object = vtktools.vtu(file_location)\n",
    "\n",
    "    ## x\n",
    "    node_features = get_node_features(vtu_object, features_list)\n",
    "    big_numpy_air.append(node_features.numpy()) "
   ]
  },
  {
   "cell_type": "code",
   "execution_count": 17,
   "id": "842be178",
   "metadata": {
    "scrolled": true
   },
   "outputs": [],
   "source": [
    "big_numpy_air_min = [big_numpy_air[i].min() for i in range(end_index-start_index)]\n",
    "big_numpy_air_mean = [big_numpy_air[i].mean() for i in range(end_index-start_index)]\n",
    "big_numpy_air_max = [big_numpy_air[i].max() for i in range(end_index-start_index)]"
   ]
  },
  {
   "cell_type": "code",
   "execution_count": 18,
   "id": "589353cf",
   "metadata": {},
   "outputs": [
    {
     "data": {
      "text/plain": [
       "(array([ 22.,  20.,  16.,  23.,  21.,  30.,  21.,  29.,  53., 166.]),\n",
       " array([0.96272253, 0.96645028, 0.97017803, 0.97390577, 0.97763352,\n",
       "        0.98136127, 0.98508901, 0.98881676, 0.99254451, 0.99627225,\n",
       "        1.        ]),\n",
       " <BarContainer object of 10 artists>)"
      ]
     },
     "execution_count": 18,
     "metadata": {},
     "output_type": "execute_result"
    },
    {
     "data": {
      "image/png": "[encoded data removed]",
      "text/plain": [
       "<Figure size 864x288 with 3 Axes>"
      ]
     },
     "metadata": {
      "needs_background": "light"
     },
     "output_type": "display_data"
    }
   ],
   "source": [
    "fig, axs = plt.subplots(1, 3, figsize=(12,4)) \n",
    "\n",
    "axs[0].hist( big_numpy_air_min )\n",
    "axs[1].hist( big_numpy_air_mean )\n",
    "axs[2].hist( big_numpy_air_max )"
   ]
  },
  {
   "cell_type": "code",
   "execution_count": 19,
   "id": "3d3868eb",
   "metadata": {},
   "outputs": [],
   "source": [
    "big_numpy_air = np.array(big_numpy_air)\n",
    "big_numpy_air = big_numpy_air.reshape(-1)  #401*852*1,1"
   ]
  },
  {
   "cell_type": "code",
   "execution_count": 20,
   "id": "92a287f9",
   "metadata": {},
   "outputs": [
    {
     "name": "stdout",
     "output_type": "stream",
     "text": [
      "big_numpy_air.shape:  (341652,)\n",
      "np.percentile(big_numpy_air, q=[1,10,25,50,75,90,99]) :  [0.02277537 0.262481   0.41309151 0.49813953 0.57217985 0.73737229\n",
      " 0.96614349]\n",
      "\n",
      "\n",
      "big_numpy_air.min() :  0.0\n",
      "big_numpy_air.max() :  1.0\n",
      "big_numpy_air.mean() :  0.49424823998763695\n"
     ]
    }
   ],
   "source": [
    "print('big_numpy_air.shape: ', big_numpy_air.shape)\n",
    "print('np.percentile(big_numpy_air, q=[1,10,25,50,75,90,99]) : ', np.percentile(big_numpy_air, q=[1,10,25,50,75,90,99]))\n",
    "print('\\n')\n",
    "\n",
    "print('big_numpy_air.min() : ', big_numpy_air.min())\n",
    "print('big_numpy_air.max() : ', big_numpy_air.max())\n",
    "print('big_numpy_air.mean() : ', big_numpy_air.mean())"
   ]
  },
  {
   "cell_type": "code",
   "execution_count": 21,
   "id": "78ef0d23",
   "metadata": {},
   "outputs": [
    {
     "data": {
      "text/plain": [
       "(array([15896., 10130., 14366., 37022., 96661., 97341., 29180., 16894.,\n",
       "        13945., 10217.]),\n",
       " array([0. , 0.1, 0.2, 0.3, 0.4, 0.5, 0.6, 0.7, 0.8, 0.9, 1. ]),\n",
       " <BarContainer object of 10 artists>)"
      ]
     },
     "execution_count": 21,
     "metadata": {},
     "output_type": "execute_result"
    },
    {
     "data": {
      "image/png": "[encoded data removed]",
      "text/plain": [
       "<Figure size 432x288 with 1 Axes>"
      ]
     },
     "metadata": {
      "needs_background": "light"
     },
     "output_type": "display_data"
    }
   ],
   "source": [
    "plt.hist( big_numpy_air )"
   ]
  },
  {
   "cell_type": "markdown",
   "id": "88bd0ee5",
   "metadata": {},
   "source": [
    "# Understanding WaveSuite dataset"
   ]
  },
  {
   "cell_type": "code",
   "execution_count": 22,
   "id": "a0c31afd",
   "metadata": {},
   "outputs": [],
   "source": [
    "location = '../../Datasets/WaveSuite_VTK/sateNo4_1_' \n",
    "start_index = 40\n",
    "end_index = 100\n",
    "\n",
    "vtu_file_locations = [ location + str(i) + '.vtu' for i in range(start_index, end_index)]\n",
    "features_list = ['nut']  # ['TracerBackground','Velocity']"
   ]
  },
  {
   "cell_type": "code",
   "execution_count": 23,
   "id": "245a7668",
   "metadata": {},
   "outputs": [],
   "source": [
    "big_numpy_wave = []\n",
    "\n",
    "#Create an empty graph data list\n",
    "graph_data_list = []\n",
    "    \n",
    "for file_location in vtu_file_locations:\n",
    "    \n",
    "    vtu_object = vtktools.vtu(file_location)\n",
    "\n",
    "    ## x\n",
    "    node_features = get_node_features(vtu_object, features_list)\n",
    "    big_numpy_wave.append(node_features.numpy()) "
   ]
  },
  {
   "cell_type": "code",
   "execution_count": 24,
   "id": "c924efab",
   "metadata": {},
   "outputs": [],
   "source": [
    "big_numpy_wave_min  = [big_numpy_wave[i].min() for i in range(end_index-start_index)]\n",
    "big_numpy_wave_mean = [big_numpy_wave[i].mean() for i in range(end_index-start_index)]\n",
    "big_numpy_wave_max  = [big_numpy_wave[i].max() for i in range(end_index-start_index)]"
   ]
  },
  {
   "cell_type": "code",
   "execution_count": 25,
   "id": "7e4e8063",
   "metadata": {},
   "outputs": [
    {
     "data": {
      "text/plain": [
       "(array([10., 10., 13., 10.,  9.,  7.,  0.,  0.,  0.,  1.]),\n",
       " array([0.667072  , 1.32004678, 1.97302155, 2.62599633, 3.27897111,\n",
       "        3.93194589, 4.58492067, 5.23789545, 5.89087023, 6.543845  ,\n",
       "        7.19681978]),\n",
       " <BarContainer object of 10 artists>)"
      ]
     },
     "execution_count": 25,
     "metadata": {},
     "output_type": "execute_result"
    },
    {
     "data": {
      "image/png": "[encoded data removed]",
      "text/plain": [
       "<Figure size 864x288 with 3 Axes>"
      ]
     },
     "metadata": {
      "needs_background": "light"
     },
     "output_type": "display_data"
    }
   ],
   "source": [
    "fig, axs = plt.subplots(1, 3, figsize=(12,4)) \n",
    "\n",
    "axs[0].hist( big_numpy_wave_min )\n",
    "axs[1].hist( big_numpy_wave_mean )\n",
    "axs[2].hist( big_numpy_wave_max )"
   ]
  },
  {
   "cell_type": "code",
   "execution_count": 26,
   "id": "6871a098",
   "metadata": {},
   "outputs": [],
   "source": [
    "big_numpy_wave = np.array(big_numpy_wave)\n",
    "big_numpy_wave = big_numpy_wave.reshape(-1)  "
   ]
  },
  {
   "cell_type": "code",
   "execution_count": 27,
   "id": "c8707b20",
   "metadata": {},
   "outputs": [
    {
     "name": "stdout",
     "output_type": "stream",
     "text": [
      "big_numpy_wave.shape:  (51066060,)\n",
      "np.percentile(big_numpy_wave, q=[1,10,25,50,75,90,99]) :  [4.99999999e-07 6.99769007e-05 9.83634018e-05 3.73364007e-03\n",
      " 4.29327995e-01 9.49258029e-01 2.24745989e+00]\n",
      "\n",
      "\n",
      "big_numpy_wave.min() :  1.2637700308459898e-07\n",
      "big_numpy_wave.max() :  7.19681978225708\n",
      "big_numpy_wave.mean() :  0.2934306075431288\n"
     ]
    }
   ],
   "source": [
    "print('big_numpy_wave.shape: ', big_numpy_wave.shape)\n",
    "print('np.percentile(big_numpy_wave, q=[1,10,25,50,75,90,99]) : ', np.percentile(big_numpy_wave, q=[1,10,25,50,75,90,99]))\n",
    "print('\\n')\n",
    "\n",
    "print('big_numpy_wave.min() : ', big_numpy_wave.min())\n",
    "print('big_numpy_wave.max() : ', big_numpy_wave.max())\n",
    "print('big_numpy_wave.mean() : ', big_numpy_wave.mean())"
   ]
  },
  {
   "cell_type": "code",
   "execution_count": 28,
   "id": "9c555cfc",
   "metadata": {},
   "outputs": [
    {
     "data": {
      "text/plain": [
       "(array([4.3636366e+07, 5.0242800e+06, 1.7917430e+06, 4.8609000e+05,\n",
       "        1.1357600e+05, 1.3961000e+04, 2.6000000e+01, 1.3000000e+01,\n",
       "        3.0000000e+00, 2.0000000e+00]),\n",
       " array([1.26377003e-07, 7.19682092e-01, 1.43936406e+00, 2.15904602e+00,\n",
       "        2.87872799e+00, 3.59840995e+00, 4.31809192e+00, 5.03777389e+00,\n",
       "        5.75745585e+00, 6.47713782e+00, 7.19681978e+00]),\n",
       " <BarContainer object of 10 artists>)"
      ]
     },
     "execution_count": 28,
     "metadata": {},
     "output_type": "execute_result"
    },
    {
     "data": {
      "image/png": "[encoded data removed]",
      "text/plain": [
       "<Figure size 432x288 with 1 Axes>"
      ]
     },
     "metadata": {
      "needs_background": "light"
     },
     "output_type": "display_data"
    }
   ],
   "source": [
    "plt.hist( big_numpy_wave )"
   ]
  },
  {
   "cell_type": "markdown",
   "id": "b98f4710",
   "metadata": {},
   "source": [
    "# Plot and save the distributions of all the datasets"
   ]
  },
  {
   "cell_type": "markdown",
   "id": "ed6371b5",
   "metadata": {},
   "source": [
    "Since the WaveSuite dataset is the only one which values are not standardized between 0 and 1, I will divide the values by 7.2 in order to standardize them. \n",
    "\n",
    "After dividing the values by 7.2 it is possible to see that the WaveSuite distribution is similar to the MNIST distribution. "
   ]
  },
  {
   "cell_type": "code",
   "execution_count": 29,
   "id": "d95b411a",
   "metadata": {},
   "outputs": [
    {
     "data": {
      "image/png": "[encoded data removed]",
      "text/plain": [
       "<Figure size 864x288 with 3 Axes>"
      ]
     },
     "metadata": {
      "needs_background": "light"
     },
     "output_type": "display_data"
    }
   ],
   "source": [
    "fig, axs = plt.subplots(1, 3, figsize=(12,4)) \n",
    "\n",
    "axs[0].hist( mnist_complete )\n",
    "axs[1].hist( big_numpy_air )\n",
    "axs[2].hist( big_numpy_wave/7.2 )\n",
    "\n",
    "axs[0].title.set_text('MNIST')\n",
    "axs[1].title.set_text('air pollution')\n",
    "axs[2].title.set_text('WaveSuite')\n",
    "\n",
    "plt.savefig('Datasets distribution')"
   ]
  },
  {
   "cell_type": "code",
   "execution_count": null,
   "id": "0c81ba9d",
   "metadata": {},
   "outputs": [],
   "source": []
  },
  {
   "cell_type": "code",
   "execution_count": null,
   "id": "773b7a13",
   "metadata": {},
   "outputs": [],
   "source": []
  }
 ],
 "metadata": {
  "kernelspec": {
   "display_name": "Python 3 (ipykernel)",
   "language": "python",
   "name": "python3"
  },
  "language_info": {
   "codemirror_mode": {
    "name": "ipython",
    "version": 3
   },
   "file_extension": ".py",
   "mimetype": "text/x-python",
   "name": "python",
   "nbconvert_exporter": "python",
   "pygments_lexer": "ipython3",
   "version": "3.10.4"
  }
 },
 "nbformat": 4,
 "nbformat_minor": 5
}
