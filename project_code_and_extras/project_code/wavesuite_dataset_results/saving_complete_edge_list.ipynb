{
 "cells": [
  {
   "cell_type": "code",
   "execution_count": 1,
   "id": "d8fa7a8a",
   "metadata": {},
   "outputs": [],
   "source": [
    "import sys\n",
    "\n",
    "sys.path.insert(0, '../auxiliary_scripts/')"
   ]
  },
  {
   "cell_type": "code",
   "execution_count": 2,
   "id": "e0a1f470",
   "metadata": {},
   "outputs": [],
   "source": [
    "import numpy as np\n",
    "import vtktools\n",
    "import torch\n",
    "import time "
   ]
  },
  {
   "cell_type": "code",
   "execution_count": 3,
   "id": "9653951b",
   "metadata": {},
   "outputs": [],
   "source": [
    "def get_edge_list_for_node(input, vtu_graph):\n",
    "    \n",
    "    node_neighbours = vtu_graph.GetPointPoints(input)\n",
    "    node_edge_list = []\n",
    "    \n",
    "    for node in node_neighbours:\n",
    "        if node > input:  # change to >= to include the same node\n",
    "            node_edge_list.append([input, node])\n",
    "            \n",
    "    return node_edge_list\n",
    "\n",
    "def get_complete_edge_list(vtu_object, n_points):\n",
    "\n",
    "    complete_edge_list = []\n",
    "\n",
    "    for point in range(n_points):  #\n",
    "        complete_edge_list = complete_edge_list + get_edge_list_for_node(point, vtu_object)\n",
    "        \n",
    "    complete_edge_list = np.array(complete_edge_list)\n",
    "    # complete_edge_list = torch.tensor(complete_edge_list).t()\n",
    "        \n",
    "    return complete_edge_list"
   ]
  },
  {
   "cell_type": "code",
   "execution_count": 4,
   "id": "b3611aeb",
   "metadata": {},
   "outputs": [],
   "source": [
    "location = '../../Datasets/WaveSuite_VTK/sateNo4_1_' \n",
    "start_index = 40\n",
    "end_index = 100  # CHANGE back to 100\n",
    "\n",
    "vtu_file_locations = [ location + str(i) + '.vtu' for i in range(start_index, end_index)]\n",
    "features_list = ['nut'] "
   ]
  },
  {
   "cell_type": "code",
   "execution_count": 5,
   "id": "4cd33dd9",
   "metadata": {},
   "outputs": [],
   "source": [
    "#First object\n",
    "first_object = vtktools.vtu(vtu_file_locations[0]) "
   ]
  },
  {
   "cell_type": "code",
   "execution_count": 6,
   "id": "6f63fbe1",
   "metadata": {},
   "outputs": [
    {
     "data": {
      "text/plain": [
       "851101"
      ]
     },
     "execution_count": 6,
     "metadata": {},
     "output_type": "execute_result"
    }
   ],
   "source": [
    "#This two parameters are the same for every graph, so they would be calculated just once instead of in every iteration\n",
    "n_points = first_object.GetField(features_list[0]).shape[0]\n",
    "n_points "
   ]
  },
  {
   "cell_type": "code",
   "execution_count": 7,
   "id": "8ddeebc5",
   "metadata": {
    "scrolled": true
   },
   "outputs": [
    {
     "name": "stdout",
     "output_type": "stream",
     "text": [
      "70199.95070791245\n"
     ]
    }
   ],
   "source": [
    "start = time.time()\n",
    "\n",
    "complete_edge_list = get_complete_edge_list(first_object, n_points)\n",
    "\n",
    "end = time.time()\n",
    "\n",
    "print(end-start)"
   ]
  },
  {
   "cell_type": "code",
   "execution_count": 8,
   "id": "73aaf86f",
   "metadata": {},
   "outputs": [],
   "source": [
    "filename = 'edges_lists/wave_complete_edge_list'"
   ]
  },
  {
   "cell_type": "code",
   "execution_count": 9,
   "id": "67712ce4",
   "metadata": {},
   "outputs": [],
   "source": [
    "np.save(filename+'.npy',complete_edge_list)"
   ]
  },
  {
   "cell_type": "code",
   "execution_count": 10,
   "id": "bb0814cd",
   "metadata": {},
   "outputs": [
    {
     "data": {
      "text/plain": [
       "array([[     0,      1],\n",
       "       [     0,   2721],\n",
       "       [     0,   2720],\n",
       "       ...,\n",
       "       [824531, 824532],\n",
       "       [824532, 850703],\n",
       "       [824532, 850866]])"
      ]
     },
     "execution_count": 10,
     "metadata": {},
     "output_type": "execute_result"
    }
   ],
   "source": [
    "np.load(filename+'.npy')"
   ]
  },
  {
   "cell_type": "code",
   "execution_count": 11,
   "id": "39dd5d0b",
   "metadata": {},
   "outputs": [
    {
     "name": "stdout",
     "output_type": "stream",
     "text": [
      "0.015617132186889648\n"
     ]
    }
   ],
   "source": [
    "start = time.time()\n",
    "\n",
    "complete_edge_list = torch.tensor(complete_edge_list).t()\n",
    "\n",
    "end = time.time()\n",
    "\n",
    "print(end-start)"
   ]
  },
  {
   "cell_type": "code",
   "execution_count": 12,
   "id": "4b12872b",
   "metadata": {},
   "outputs": [],
   "source": [
    "torch.save(complete_edge_list, filename+'.pt')"
   ]
  },
  {
   "cell_type": "code",
   "execution_count": 13,
   "id": "7fe58826",
   "metadata": {},
   "outputs": [
    {
     "data": {
      "text/plain": [
       "tensor([[     0,      0,      0,  ..., 824531, 824532, 824532],\n",
       "        [     1,   2721,   2720,  ..., 824532, 850703, 850866]],\n",
       "       dtype=torch.int32)"
      ]
     },
     "execution_count": 13,
     "metadata": {},
     "output_type": "execute_result"
    }
   ],
   "source": [
    "torch.load(filename+'.pt')"
   ]
  },
  {
   "cell_type": "code",
   "execution_count": null,
   "id": "c08d4aa2",
   "metadata": {},
   "outputs": [],
   "source": []
  }
 ],
 "metadata": {
  "kernelspec": {
   "display_name": "Python 3 (ipykernel)",
   "language": "python",
   "name": "python3"
  },
  "language_info": {
   "codemirror_mode": {
    "name": "ipython",
    "version": 3
   },
   "file_extension": ".py",
   "mimetype": "text/x-python",
   "name": "python",
   "nbconvert_exporter": "python",
   "pygments_lexer": "ipython3",
   "version": "3.10.4"
  }
 },
 "nbformat": 4,
 "nbformat_minor": 5
}
