{
 "cells": [
  {
   "cell_type": "markdown",
   "id": "688955a9",
   "metadata": {},
   "source": [
    "# create the list of Data objects where each element is a graph"
   ]
  },
  {
   "cell_type": "code",
   "execution_count": 1,
   "id": "295e84cc",
   "metadata": {},
   "outputs": [],
   "source": [
    "import numpy as np\n",
    "import pyvista as pv\n",
    "import time\n",
    "\n",
    "import matplotlib.pyplot as plt"
   ]
  },
  {
   "cell_type": "code",
   "execution_count": 2,
   "id": "cbd02637",
   "metadata": {},
   "outputs": [],
   "source": [
    "features_list = ['nut'] "
   ]
  },
  {
   "cell_type": "code",
   "execution_count": 3,
   "id": "a56f4045",
   "metadata": {},
   "outputs": [
    {
     "data": {
      "text/plain": [
       "4.0713560581207275"
      ]
     },
     "execution_count": 3,
     "metadata": {},
     "output_type": "execute_result"
    }
   ],
   "source": [
    "start = time.time()\n",
    "\n",
    "## Read the file\n",
    "mesh40 = pv.read('../../../Datasets/WaveSuite_VTK/sateNo4_1_40.vtu')  #from 40 to 99\n",
    "## Read the file\n",
    "mesh50 = pv.read('../../../Datasets/WaveSuite_VTK/sateNo4_1_50.vtu')  #from 40 to 99\n",
    "## Read the file\n",
    "mesh60 = pv.read('../../../Datasets/WaveSuite_VTK/sateNo4_1_60.vtu')  #from 40 to 99\n",
    "## Read the file\n",
    "mesh70 = pv.read('../../../Datasets/WaveSuite_VTK/sateNo4_1_70.vtu')  #from 40 to 99\n",
    "\n",
    "end = time.time()\n",
    "\n",
    "end-start"
   ]
  },
  {
   "cell_type": "code",
   "execution_count": 4,
   "id": "6f1f2902",
   "metadata": {},
   "outputs": [],
   "source": [
    "import sys\n",
    "\n",
    "sys.path.insert(0, '../../auxiliary_scripts/')"
   ]
  },
  {
   "cell_type": "code",
   "execution_count": 5,
   "id": "6dcf152f",
   "metadata": {},
   "outputs": [],
   "source": [
    "import vtktools"
   ]
  },
  {
   "cell_type": "code",
   "execution_count": 6,
   "id": "24f9eb95",
   "metadata": {},
   "outputs": [
    {
     "data": {
      "text/plain": [
       "5.334356069564819"
      ]
     },
     "execution_count": 6,
     "metadata": {},
     "output_type": "execute_result"
    }
   ],
   "source": [
    "start = time.time()\n",
    "\n",
    "## Read the file\n",
    "mesh40 = vtktools.vtu('../../../Datasets/WaveSuite_VTK/sateNo4_1_40.vtu') \n",
    "## Read the file\n",
    "mesh50 = vtktools.vtu('../../../Datasets/WaveSuite_VTK/sateNo4_1_50.vtu') \n",
    "## Read the file\n",
    "mesh60 = vtktools.vtu('../../../Datasets/WaveSuite_VTK/sateNo4_1_60.vtu') \n",
    "## Read the file\n",
    "mesh70 = vtktools.vtu('../../../Datasets/WaveSuite_VTK/sateNo4_1_70.vtu') \n",
    "\n",
    "end = time.time()\n",
    "\n",
    "end-start"
   ]
  },
  {
   "cell_type": "code",
   "execution_count": 7,
   "id": "e39944f6",
   "metadata": {},
   "outputs": [
    {
     "name": "stdout",
     "output_type": "stream",
     "text": [
      "mesh40_n_points :  851101\n",
      "mesh50_n_points :  851101\n",
      "mesh60_n_points :  851101\n",
      "mesh70_n_points :  851101\n"
     ]
    }
   ],
   "source": [
    "mesh40_n_points = mesh40.GetField(features_list[0]).shape[0]\n",
    "mesh50_n_points = mesh50.GetField(features_list[0]).shape[0]\n",
    "mesh60_n_points = mesh60.GetField(features_list[0]).shape[0]\n",
    "mesh70_n_points = mesh70.GetField(features_list[0]).shape[0]\n",
    "\n",
    "print('mesh40_n_points : ', mesh40_n_points)\n",
    "print('mesh50_n_points : ', mesh50_n_points)\n",
    "print('mesh60_n_points : ', mesh60_n_points)\n",
    "print('mesh70_n_points : ', mesh70_n_points)"
   ]
  },
  {
   "cell_type": "code",
   "execution_count": 8,
   "id": "1fddc2cc",
   "metadata": {},
   "outputs": [
    {
     "name": "stderr",
     "output_type": "stream",
     "text": [
      "C:\\Users\\amc121\\AppData\\Local\\Programs\\Python\\Python310\\lib\\site-packages\\tqdm\\auto.py:22: TqdmWarning: IProgress not found. Please update jupyter and ipywidgets. See https://ipywidgets.readthedocs.io/en/stable/user_install.html\n",
      "  from .autonotebook import tqdm as notebook_tqdm\n"
     ]
    }
   ],
   "source": [
    "from graph_functions import get_edge_list_for_node"
   ]
  },
  {
   "cell_type": "code",
   "execution_count": 9,
   "id": "2c88e61d",
   "metadata": {},
   "outputs": [],
   "source": [
    "#Literally take a random selection, \n",
    "#But remember that the more points you introduce the more time the execution is going to take\n",
    "just_these_points = range(1000,2000)"
   ]
  },
  {
   "cell_type": "code",
   "execution_count": 10,
   "id": "d0a28f94",
   "metadata": {},
   "outputs": [],
   "source": [
    "n_points = mesh40_n_points\n",
    "vtu_object = mesh40\n",
    "\n",
    "partial_edge_list = []\n",
    "\n",
    "for point in just_these_points:  #\n",
    "    partial_edge_list = partial_edge_list + get_edge_list_for_node(point, vtu_object)\n",
    "        \n",
    "partial_edge_list = np.array(partial_edge_list)\n",
    "# partial_edge_list = torch.tensor(partial_edge_list).t()\n",
    "\n",
    "mesh40_partial_edge_list = partial_edge_list"
   ]
  },
  {
   "cell_type": "code",
   "execution_count": 11,
   "id": "1c41d1f3",
   "metadata": {},
   "outputs": [],
   "source": [
    "n_points = mesh50_n_points\n",
    "vtu_object = mesh50\n",
    "\n",
    "partial_edge_list = []\n",
    "\n",
    "for point in just_these_points:  #\n",
    "    partial_edge_list = partial_edge_list + get_edge_list_for_node(point, vtu_object)\n",
    "        \n",
    "partial_edge_list = np.array(partial_edge_list)\n",
    "# partial_edge_list = torch.tensor(partial_edge_list).t()\n",
    "\n",
    "mesh50_partial_edge_list = partial_edge_list"
   ]
  },
  {
   "cell_type": "code",
   "execution_count": 12,
   "id": "d00a6b2c",
   "metadata": {},
   "outputs": [],
   "source": [
    "n_points = mesh60_n_points\n",
    "vtu_object = mesh60\n",
    "\n",
    "partial_edge_list = []\n",
    "\n",
    "for point in just_these_points:  #\n",
    "    partial_edge_list = partial_edge_list + get_edge_list_for_node(point, vtu_object)\n",
    "        \n",
    "partial_edge_list = np.array(partial_edge_list)\n",
    "# partial_edge_list = torch.tensor(partial_edge_list).t()\n",
    "\n",
    "mesh60_partial_edge_list = partial_edge_list"
   ]
  },
  {
   "cell_type": "code",
   "execution_count": 13,
   "id": "f0ea928c",
   "metadata": {},
   "outputs": [],
   "source": [
    "n_points = mesh70_n_points\n",
    "vtu_object = mesh70\n",
    "\n",
    "partial_edge_list = []\n",
    "\n",
    "for point in just_these_points:  #\n",
    "    partial_edge_list = partial_edge_list + get_edge_list_for_node(point, vtu_object)\n",
    "        \n",
    "partial_edge_list = np.array(partial_edge_list)\n",
    "# partial_edge_list = torch.tensor(partial_edge_list).t()\n",
    "\n",
    "mesh70_partial_edge_list = partial_edge_list"
   ]
  },
  {
   "cell_type": "code",
   "execution_count": 14,
   "id": "98ba1ad9",
   "metadata": {},
   "outputs": [
    {
     "data": {
      "text/plain": [
       "25784"
      ]
     },
     "execution_count": 14,
     "metadata": {},
     "output_type": "execute_result"
    }
   ],
   "source": [
    "mesh40_partial_edge_list.size"
   ]
  },
  {
   "cell_type": "code",
   "execution_count": 18,
   "id": "cfdcd79b",
   "metadata": {},
   "outputs": [
    {
     "name": "stdout",
     "output_type": "stream",
     "text": [
      "0\n",
      "0\n",
      "0\n"
     ]
    }
   ],
   "source": [
    "print( ( mesh40_partial_edge_list != mesh50_partial_edge_list ).sum() )\n",
    "print( ( mesh50_partial_edge_list != mesh60_partial_edge_list ).sum() )\n",
    "print( ( mesh60_partial_edge_list != mesh70_partial_edge_list ).sum() )"
   ]
  },
  {
   "cell_type": "code",
   "execution_count": null,
   "id": "17ed67e5",
   "metadata": {},
   "outputs": [],
   "source": []
  },
  {
   "cell_type": "code",
   "execution_count": null,
   "id": "f837b726",
   "metadata": {},
   "outputs": [],
   "source": []
  },
  {
   "cell_type": "markdown",
   "id": "d58f3bb4",
   "metadata": {},
   "source": [
    "Hey, I decided to play with the embedding_sequence of model2 and I found out that the more number of layers the better results I get, which of course makes a lot of sense\n",
    "\n",
    "However, the third entry of the embedding sequence is conflictive: Off course I want it to be high but making it high increases the number of parameters by a lot\n",
    "\n",
    "If I leave the layer equal to 1 the results go bad, and it makes a lot of sense because 1 layer is only input_data but corrupted, right? Whereas if I use at least 2 layers then I get input layer but enhanced. So, so far I have the hypothesis that \n",
    "number_of_channels_in_last_layer = 2 is the way to go "
   ]
  },
  {
   "cell_type": "code",
   "execution_count": null,
   "id": "71d45448",
   "metadata": {},
   "outputs": [],
   "source": []
  }
 ],
 "metadata": {
  "kernelspec": {
   "display_name": "Python 3 (ipykernel)",
   "language": "python",
   "name": "python3"
  },
  "language_info": {
   "codemirror_mode": {
    "name": "ipython",
    "version": 3
   },
   "file_extension": ".py",
   "mimetype": "text/x-python",
   "name": "python",
   "nbconvert_exporter": "python",
   "pygments_lexer": "ipython3",
   "version": "3.10.5"
  }
 },
 "nbformat": 4,
 "nbformat_minor": 5
}
