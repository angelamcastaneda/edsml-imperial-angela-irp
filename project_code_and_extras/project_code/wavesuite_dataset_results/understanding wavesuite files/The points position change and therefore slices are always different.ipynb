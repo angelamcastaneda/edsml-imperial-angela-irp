{
 "cells": [
  {
   "cell_type": "code",
   "execution_count": 1,
   "id": "6f98b67e",
   "metadata": {},
   "outputs": [],
   "source": [
    "import numpy as np\n",
    "import pyvista as pv\n",
    "\n",
    "import matplotlib.pyplot as plt"
   ]
  },
  {
   "cell_type": "markdown",
   "id": "1032f91c",
   "metadata": {},
   "source": [
    "# Lets check the points position in different files"
   ]
  },
  {
   "cell_type": "markdown",
   "id": "a2436ba1",
   "metadata": {},
   "source": [
    "Please note that the points position change, and this therefore makes the orthogonal slices taken different for each file"
   ]
  },
  {
   "cell_type": "code",
   "execution_count": 4,
   "id": "1ef52502",
   "metadata": {},
   "outputs": [],
   "source": [
    "## Read the file\n",
    "mesh40 = pv.read('../../../Datasets/WaveSuite_VTK/sateNo4_1_40.vtu')  #from 40 to 99\n",
    "## Read the file\n",
    "mesh50 = pv.read('../../../Datasets/WaveSuite_VTK/sateNo4_1_50.vtu')  #from 40 to 99\n",
    "## Read the file\n",
    "mesh60 = pv.read('../../../Datasets/WaveSuite_VTK/sateNo4_1_60.vtu')  #from 40 to 99\n",
    "## Read the file\n",
    "mesh70 = pv.read('../../../Datasets/WaveSuite_VTK/sateNo4_1_70.vtu')  #from 40 to 99"
   ]
  },
  {
   "cell_type": "code",
   "execution_count": 5,
   "id": "1650b0c9",
   "metadata": {},
   "outputs": [
    {
     "data": {
      "text/plain": [
       "pyvista_ndarray([[0.        , 0.        , 0.        ],\n",
       "                 [0.        , 0.        , 0.        ],\n",
       "                 [0.        , 0.        , 0.        ],\n",
       "                 ...,\n",
       "                 [0.54599   , 0.        , 2.2906404 ],\n",
       "                 [0.5450134 , 0.        , 2.2911396 ],\n",
       "                 [0.54400635, 0.        , 2.29147   ]], dtype=float32)"
      ]
     },
     "execution_count": 5,
     "metadata": {},
     "output_type": "execute_result"
    }
   ],
   "source": [
    "mesh70.points - mesh60.points"
   ]
  },
  {
   "cell_type": "code",
   "execution_count": 6,
   "id": "12cb619b",
   "metadata": {},
   "outputs": [
    {
     "data": {
      "text/plain": [
       "pyvista_ndarray([[0.        , 0.        , 0.        ],\n",
       "                 [0.        , 0.        , 0.        ],\n",
       "                 [0.        , 0.        , 0.        ],\n",
       "                 ...,\n",
       "                 [0.09899902, 0.        , 2.1643    ],\n",
       "                 [0.09799194, 0.        , 2.16438   ],\n",
       "                 [0.09799194, 0.        , 2.16443   ]], dtype=float32)"
      ]
     },
     "execution_count": 6,
     "metadata": {},
     "output_type": "execute_result"
    }
   ],
   "source": [
    "mesh60.points - mesh50.points"
   ]
  },
  {
   "cell_type": "code",
   "execution_count": 7,
   "id": "7d2c19c2",
   "metadata": {},
   "outputs": [
    {
     "data": {
      "text/plain": [
       "pyvista_ndarray([[ 0.        ,  0.        ,  0.        ],\n",
       "                 [ 0.        ,  0.        ,  0.        ],\n",
       "                 [ 0.        ,  0.        ,  0.        ],\n",
       "                 ...,\n",
       "                 [-0.09899902,  0.        ,  0.85557985],\n",
       "                 [-0.09899902,  0.        ,  0.85551   ],\n",
       "                 [-0.09899902,  0.        ,  0.8554499 ]], dtype=float32)"
      ]
     },
     "execution_count": 7,
     "metadata": {},
     "output_type": "execute_result"
    }
   ],
   "source": [
    "mesh50.points - mesh40.points"
   ]
  },
  {
   "cell_type": "markdown",
   "id": "e010ae25",
   "metadata": {},
   "source": [
    "## Now look at the slices between two different files"
   ]
  },
  {
   "cell_type": "code",
   "execution_count": 8,
   "id": "d1e6a8b6",
   "metadata": {},
   "outputs": [],
   "source": [
    "mesh40_x_slice = mesh40.slice(normal='x')\n",
    "mesh50_x_slice = mesh50.slice(normal='x')\n",
    "mesh60_x_slice = mesh60.slice(normal='x')\n",
    "mesh70_x_slice = mesh70.slice(normal='x')\n",
    "\n",
    "mesh40_y_slice = mesh40.slice(normal='y')\n",
    "mesh50_y_slice = mesh50.slice(normal='y')\n",
    "mesh60_y_slice = mesh60.slice(normal='y')\n",
    "mesh70_y_slice = mesh70.slice(normal='y')"
   ]
  },
  {
   "cell_type": "code",
   "execution_count": 10,
   "id": "b7f314b6",
   "metadata": {},
   "outputs": [
    {
     "name": "stdout",
     "output_type": "stream",
     "text": [
      "mesh40_x_slice.n_points :  11563\n",
      "mesh50_x_slice.n_points :  11662\n",
      "mesh60_x_slice.n_points :  11572\n",
      "mesh70_x_slice.n_points :  12505\n"
     ]
    }
   ],
   "source": [
    "print('mesh40_x_slice.n_points : ', mesh40_x_slice.n_points)\n",
    "print('mesh50_x_slice.n_points : ', mesh50_x_slice.n_points)\n",
    "print('mesh60_x_slice.n_points : ', mesh60_x_slice.n_points)\n",
    "print('mesh70_x_slice.n_points : ', mesh70_x_slice.n_points)"
   ]
  },
  {
   "cell_type": "code",
   "execution_count": 11,
   "id": "56a65263",
   "metadata": {},
   "outputs": [
    {
     "name": "stdout",
     "output_type": "stream",
     "text": [
      "mesh40_y_slice.n_points :  21300\n",
      "mesh50_y_slice.n_points :  21358\n",
      "mesh60_y_slice.n_points :  21310\n",
      "mesh70_y_slice.n_points :  21378\n"
     ]
    }
   ],
   "source": [
    "print('mesh40_y_slice.n_points : ', mesh40_y_slice.n_points)\n",
    "print('mesh50_y_slice.n_points : ', mesh50_y_slice.n_points)\n",
    "print('mesh60_y_slice.n_points : ', mesh60_y_slice.n_points)\n",
    "print('mesh70_y_slice.n_points : ', mesh70_y_slice.n_points)"
   ]
  },
  {
   "cell_type": "code",
   "execution_count": null,
   "id": "beb4370b",
   "metadata": {},
   "outputs": [],
   "source": []
  }
 ],
 "metadata": {
  "kernelspec": {
   "display_name": "Python 3 (ipykernel)",
   "language": "python",
   "name": "python3"
  },
  "language_info": {
   "codemirror_mode": {
    "name": "ipython",
    "version": 3
   },
   "file_extension": ".py",
   "mimetype": "text/x-python",
   "name": "python",
   "nbconvert_exporter": "python",
   "pygments_lexer": "ipython3",
   "version": "3.10.4"
  }
 },
 "nbformat": 4,
 "nbformat_minor": 5
}
