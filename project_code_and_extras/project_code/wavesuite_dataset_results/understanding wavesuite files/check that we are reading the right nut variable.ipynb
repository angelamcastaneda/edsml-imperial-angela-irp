{
 "cells": [
  {
   "cell_type": "code",
   "execution_count": 1,
   "id": "3f4d238d",
   "metadata": {},
   "outputs": [],
   "source": [
    "#It is highly probable that this folder will chnage its name in th future\n",
    "import sys\n",
    "\n",
    "sys.path.insert(0, '../auxiliary_scripts/')\n",
    "\n",
    "import vtktools"
   ]
  },
  {
   "cell_type": "code",
   "execution_count": 2,
   "id": "db379368",
   "metadata": {},
   "outputs": [],
   "source": [
    "original_folder = '../../Datasets/WaveSuite_VTK'\n",
    "\n",
    "#Select a random vtu file\n",
    "filename = 'sateNo4_1_46.vtu'"
   ]
  },
  {
   "cell_type": "markdown",
   "id": "dd32586a",
   "metadata": {},
   "source": [
    "## Read it with vtk_tools"
   ]
  },
  {
   "cell_type": "code",
   "execution_count": 3,
   "id": "e654eefd",
   "metadata": {
    "scrolled": true
   },
   "outputs": [],
   "source": [
    "file_location = original_folder + '/' + filename #I think there is no difference between '/' and '\\'\n",
    "vtu_object = vtktools.vtu(file_location)"
   ]
  },
  {
   "cell_type": "code",
   "execution_count": 4,
   "id": "9d802fac",
   "metadata": {},
   "outputs": [],
   "source": [
    "data_nut = vtu_object.GetField('nut')"
   ]
  },
  {
   "cell_type": "code",
   "execution_count": 5,
   "id": "f2ddc591",
   "metadata": {},
   "outputs": [
    {
     "name": "stdout",
     "output_type": "stream",
     "text": [
      "data_nut.min() :  4.999999987376214e-07\n",
      "data_nut.max() :  1.0526399612426758\n"
     ]
    }
   ],
   "source": [
    "print('data_nut.min() : ', data_nut.min())\n",
    "print('data_nut.max() : ', data_nut.max())"
   ]
  },
  {
   "cell_type": "markdown",
   "id": "1baaeace",
   "metadata": {},
   "source": [
    "## Read it with pyvista"
   ]
  },
  {
   "cell_type": "code",
   "execution_count": 6,
   "id": "dcc787ac",
   "metadata": {},
   "outputs": [],
   "source": [
    "import pyvista as pv"
   ]
  },
  {
   "cell_type": "code",
   "execution_count": 7,
   "id": "a48c40c0",
   "metadata": {},
   "outputs": [],
   "source": [
    "mesh0 = pv.read(file_location)"
   ]
  },
  {
   "cell_type": "code",
   "execution_count": 8,
   "id": "741daea0",
   "metadata": {},
   "outputs": [
    {
     "data": {
      "text/html": [
       "<table><tr><th>Header</th><th>Data Arrays</th></tr><tr><td>\n",
       "<table>\n",
       "<tr><th>UnstructuredGrid</th><th>Information</th></tr>\n",
       "<tr><td>N Cells</td><td>1008231</td></tr>\n",
       "<tr><td>N Points</td><td>851101</td></tr>\n",
       "<tr><td>X Bounds</td><td>2.980e+02, 3.820e+02</td></tr>\n",
       "<tr><td>Y Bounds</td><td>-3.000e+01, 3.000e+01</td></tr>\n",
       "<tr><td>Z Bounds</td><td>-5.000e+01, 6.000e+01</td></tr>\n",
       "<tr><td>N Arrays</td><td>11</td></tr>\n",
       "</table>\n",
       "\n",
       "</td><td>\n",
       "<table>\n",
       "<tr><th>Name</th><th>Field</th><th>Type</th><th>N Comp</th><th>Min</th><th>Max</th></tr>\n",
       "<tr><td>nut</td><td>Points</td><td>float32</td><td>1</td><td>5.000e-07</td><td>1.053e+00</td></tr>\n",
       "<tr><td>p_rgh</td><td>Points</td><td>float32</td><td>1</td><td>-1.873e+04</td><td>2.904e+04</td></tr>\n",
       "<tr><td>p</td><td>Points</td><td>float32</td><td>1</td><td>-7.181e+02</td><td>5.002e+05</td></tr>\n",
       "<tr><td>alpha.water</td><td>Points</td><td>float32</td><td>1</td><td>-3.191e-06</td><td>1.046e+00</td></tr>\n",
       "<tr><td>U</td><td>Points</td><td>float32</td><td>3</td><td>-1.520e+00</td><td>3.054e+00</td></tr>\n",
       "<tr><td>cellID</td><td>Cells</td><td>int32</td><td>1</td><td>0.000e+00</td><td>7.848e+05</td></tr>\n",
       "<tr><td>nut</td><td>Cells</td><td>float32</td><td>1</td><td>4.919e-07</td><td>1.242e+00</td></tr>\n",
       "<tr><td>p_rgh</td><td>Cells</td><td>float32</td><td>1</td><td>-1.882e+04</td><td>2.918e+04</td></tr>\n",
       "<tr><td>p</td><td>Cells</td><td>float32</td><td>1</td><td>-6.608e+02</td><td>4.904e+05</td></tr>\n",
       "<tr><td>alpha.water</td><td>Cells</td><td>float32</td><td>1</td><td>-9.106e-06</td><td>1.057e+00</td></tr>\n",
       "<tr><td>U</td><td>Cells</td><td>float32</td><td>3</td><td>-2.382e+00</td><td>4.153e+00</td></tr>\n",
       "</table>\n",
       "\n",
       "</td></tr> </table>"
      ],
      "text/plain": [
       "UnstructuredGrid (0x15d52dc7760)\n",
       "  N Cells:\t1008231\n",
       "  N Points:\t851101\n",
       "  X Bounds:\t2.980e+02, 3.820e+02\n",
       "  Y Bounds:\t-3.000e+01, 3.000e+01\n",
       "  Z Bounds:\t-5.000e+01, 6.000e+01\n",
       "  N Arrays:\t11"
      ]
     },
     "execution_count": 8,
     "metadata": {},
     "output_type": "execute_result"
    }
   ],
   "source": [
    "mesh0"
   ]
  },
  {
   "cell_type": "markdown",
   "id": "9b9aeed8",
   "metadata": {},
   "source": [
    "As we can check, the vtktools is reading the nut value corresponding to Points and not to Cells\n",
    "\n",
    "It is possible to verify the same thing y looking at the function GetField in this link:\n",
    "https://github.com/FluidityProject/fluidity/blob/main/python/vtktools.py"
   ]
  },
  {
   "cell_type": "code",
   "execution_count": null,
   "id": "3cb92133",
   "metadata": {},
   "outputs": [],
   "source": []
  }
 ],
 "metadata": {
  "kernelspec": {
   "display_name": "Python 3 (ipykernel)",
   "language": "python",
   "name": "python3"
  },
  "language_info": {
   "codemirror_mode": {
    "name": "ipython",
    "version": 3
   },
   "file_extension": ".py",
   "mimetype": "text/x-python",
   "name": "python",
   "nbconvert_exporter": "python",
   "pygments_lexer": "ipython3",
   "version": "3.10.4"
  }
 },
 "nbformat": 4,
 "nbformat_minor": 5
}
